{
 "cells": [
  {
   "cell_type": "markdown",
   "id": "582935f3",
   "metadata": {},
   "source": [
    "# Heart Disease Analysis\n",
    "### By:  Sanath Kapoor\n",
    "#### 20/07/2021"
   ]
  },
  {
   "cell_type": "markdown",
   "id": "f8b94c48",
   "metadata": {},
   "source": [
    "## Introduction\n",
    "Predicting whether a person has a 'Heart Disease' or 'No Heart Disease'. This is an example of *Supervised Machine Learning* as the outcome is already known. It is a Classification Problem as we have to classify the outcomes into two classes:\n",
    "\n",
    " * 1(One) as having Heart Disease\n",
    " * 0(Zero) as not having Heart Disease"
   ]
  },
  {
   "cell_type": "markdown",
   "id": "463fc68a",
   "metadata": {},
   "source": [
    "## Data Exploration\n",
    "The Heart Disease dataset can be downloaded from [Kaggle](https://www.kaggle.com/priyanka841/heart-disease-prediction-uci)\n",
    "\n",
    "### Loading Basic Libraries"
   ]
  },
  {
   "cell_type": "code",
   "execution_count": 64,
   "id": "091f7227",
   "metadata": {},
   "outputs": [],
   "source": [
    "library(tidyverse)"
   ]
  },
  {
   "cell_type": "markdown",
   "id": "803a19c4",
   "metadata": {},
   "source": [
    "### Reading the csv file"
   ]
  },
  {
   "cell_type": "markdown",
   "id": "1d9090f7",
   "metadata": {},
   "source": [
    "Here we are using the `read.csv` functions in order to upload the .csv file where as the `head()` function is being used to display the first six rows of our dataset."
   ]
  },
  {
   "cell_type": "code",
   "execution_count": 65,
   "id": "401ed4a6",
   "metadata": {},
   "outputs": [
    {
     "data": {
      "text/html": [
       "<table>\n",
       "<thead><tr><th scope=col>ï..age</th><th scope=col>sex</th><th scope=col>cp</th><th scope=col>trestbps</th><th scope=col>chol</th><th scope=col>fbs</th><th scope=col>restecg</th><th scope=col>thalach</th><th scope=col>exang</th><th scope=col>oldpeak</th><th scope=col>slope</th><th scope=col>ca</th><th scope=col>thal</th><th scope=col>target</th></tr></thead>\n",
       "<tbody>\n",
       "\t<tr><td>63 </td><td>1  </td><td>3  </td><td>145</td><td>233</td><td>1  </td><td>0  </td><td>150</td><td>0  </td><td>2.3</td><td>0  </td><td>0  </td><td>1  </td><td>1  </td></tr>\n",
       "\t<tr><td>37 </td><td>1  </td><td>2  </td><td>130</td><td>250</td><td>0  </td><td>1  </td><td>187</td><td>0  </td><td>3.5</td><td>0  </td><td>0  </td><td>2  </td><td>1  </td></tr>\n",
       "\t<tr><td>41 </td><td>0  </td><td>1  </td><td>130</td><td>204</td><td>0  </td><td>0  </td><td>172</td><td>0  </td><td>1.4</td><td>2  </td><td>0  </td><td>2  </td><td>1  </td></tr>\n",
       "\t<tr><td>56 </td><td>1  </td><td>1  </td><td>120</td><td>236</td><td>0  </td><td>1  </td><td>178</td><td>0  </td><td>0.8</td><td>2  </td><td>0  </td><td>2  </td><td>1  </td></tr>\n",
       "\t<tr><td>57 </td><td>0  </td><td>0  </td><td>120</td><td>354</td><td>0  </td><td>1  </td><td>163</td><td>1  </td><td>0.6</td><td>2  </td><td>0  </td><td>2  </td><td>1  </td></tr>\n",
       "\t<tr><td>57 </td><td>1  </td><td>0  </td><td>140</td><td>192</td><td>0  </td><td>1  </td><td>148</td><td>0  </td><td>0.4</td><td>1  </td><td>0  </td><td>1  </td><td>1  </td></tr>\n",
       "</tbody>\n",
       "</table>\n"
      ],
      "text/latex": [
       "\\begin{tabular}{r|llllllllllllll}\n",
       " ï..age & sex & cp & trestbps & chol & fbs & restecg & thalach & exang & oldpeak & slope & ca & thal & target\\\\\n",
       "\\hline\n",
       "\t 63  & 1   & 3   & 145 & 233 & 1   & 0   & 150 & 0   & 2.3 & 0   & 0   & 1   & 1  \\\\\n",
       "\t 37  & 1   & 2   & 130 & 250 & 0   & 1   & 187 & 0   & 3.5 & 0   & 0   & 2   & 1  \\\\\n",
       "\t 41  & 0   & 1   & 130 & 204 & 0   & 0   & 172 & 0   & 1.4 & 2   & 0   & 2   & 1  \\\\\n",
       "\t 56  & 1   & 1   & 120 & 236 & 0   & 1   & 178 & 0   & 0.8 & 2   & 0   & 2   & 1  \\\\\n",
       "\t 57  & 0   & 0   & 120 & 354 & 0   & 1   & 163 & 1   & 0.6 & 2   & 0   & 2   & 1  \\\\\n",
       "\t 57  & 1   & 0   & 140 & 192 & 0   & 1   & 148 & 0   & 0.4 & 1   & 0   & 1   & 1  \\\\\n",
       "\\end{tabular}\n"
      ],
      "text/markdown": [
       "\n",
       "| ï..age | sex | cp | trestbps | chol | fbs | restecg | thalach | exang | oldpeak | slope | ca | thal | target |\n",
       "|---|---|---|---|---|---|---|---|---|---|---|---|---|---|\n",
       "| 63  | 1   | 3   | 145 | 233 | 1   | 0   | 150 | 0   | 2.3 | 0   | 0   | 1   | 1   |\n",
       "| 37  | 1   | 2   | 130 | 250 | 0   | 1   | 187 | 0   | 3.5 | 0   | 0   | 2   | 1   |\n",
       "| 41  | 0   | 1   | 130 | 204 | 0   | 0   | 172 | 0   | 1.4 | 2   | 0   | 2   | 1   |\n",
       "| 56  | 1   | 1   | 120 | 236 | 0   | 1   | 178 | 0   | 0.8 | 2   | 0   | 2   | 1   |\n",
       "| 57  | 0   | 0   | 120 | 354 | 0   | 1   | 163 | 1   | 0.6 | 2   | 0   | 2   | 1   |\n",
       "| 57  | 1   | 0   | 140 | 192 | 0   | 1   | 148 | 0   | 0.4 | 1   | 0   | 1   | 1   |\n",
       "\n"
      ],
      "text/plain": [
       "  ï..age sex cp trestbps chol fbs restecg thalach exang oldpeak slope ca thal\n",
       "1 63     1   3  145      233  1   0       150     0     2.3     0     0  1   \n",
       "2 37     1   2  130      250  0   1       187     0     3.5     0     0  2   \n",
       "3 41     0   1  130      204  0   0       172     0     1.4     2     0  2   \n",
       "4 56     1   1  120      236  0   1       178     0     0.8     2     0  2   \n",
       "5 57     0   0  120      354  0   1       163     1     0.6     2     0  2   \n",
       "6 57     1   0  140      192  0   1       148     0     0.4     1     0  1   \n",
       "  target\n",
       "1 1     \n",
       "2 1     \n",
       "3 1     \n",
       "4 1     \n",
       "5 1     \n",
       "6 1     "
      ]
     },
     "metadata": {},
     "output_type": "display_data"
    }
   ],
   "source": [
    "data <- read.csv(\"heart.csv\")\n",
    "head(data)"
   ]
  },
  {
   "cell_type": "markdown",
   "id": "ab9a32d1",
   "metadata": {},
   "source": [
    "There after we use the `glimpse()` function which helps us to get an idea about the total number of rows and columns in our dataset as well as it also tells us the data type of each coulmn. Here, we can see that our dataset contains of *303 rows* and *14 columns*"
   ]
  },
  {
   "cell_type": "code",
   "execution_count": 66,
   "id": "a60d4a88",
   "metadata": {},
   "outputs": [
    {
     "name": "stdout",
     "output_type": "stream",
     "text": [
      "Observations: 303\n",
      "Variables: 14\n",
      "$ ï..age   <int> 63, 37, 41, 56, 57, 57, 56, 44, 52, 57, 54, 48, 49, 64, 58...\n",
      "$ sex      <int> 1, 1, 0, 1, 0, 1, 0, 1, 1, 1, 1, 0, 1, 1, 0, 0, 0, 0, 1, 0...\n",
      "$ cp       <int> 3, 2, 1, 1, 0, 0, 1, 1, 2, 2, 0, 2, 1, 3, 3, 2, 2, 3, 0, 3...\n",
      "$ trestbps <int> 145, 130, 130, 120, 120, 140, 140, 120, 172, 150, 140, 130...\n",
      "$ chol     <int> 233, 250, 204, 236, 354, 192, 294, 263, 199, 168, 239, 275...\n",
      "$ fbs      <int> 1, 0, 0, 0, 0, 0, 0, 0, 1, 0, 0, 0, 0, 0, 1, 0, 0, 0, 0, 0...\n",
      "$ restecg  <int> 0, 1, 0, 1, 1, 1, 0, 1, 1, 1, 1, 1, 1, 0, 0, 1, 1, 1, 1, 1...\n",
      "$ thalach  <int> 150, 187, 172, 178, 163, 148, 153, 173, 162, 174, 160, 139...\n",
      "$ exang    <int> 0, 0, 0, 0, 1, 0, 0, 0, 0, 0, 0, 0, 0, 1, 0, 0, 0, 0, 0, 0...\n",
      "$ oldpeak  <dbl> 2.3, 3.5, 1.4, 0.8, 0.6, 0.4, 1.3, 0.0, 0.5, 1.6, 1.2, 0.2...\n",
      "$ slope    <int> 0, 0, 2, 2, 2, 1, 1, 2, 2, 2, 2, 2, 2, 1, 2, 1, 2, 0, 2, 2...\n",
      "$ ca       <int> 0, 0, 0, 0, 0, 0, 0, 0, 0, 0, 0, 0, 0, 0, 0, 0, 0, 0, 0, 2...\n",
      "$ thal     <int> 1, 2, 2, 2, 2, 1, 2, 3, 3, 2, 2, 2, 2, 2, 2, 2, 2, 2, 2, 2...\n",
      "$ target   <int> 1, 1, 1, 1, 1, 1, 1, 1, 1, 1, 1, 1, 1, 1, 1, 1, 1, 1, 1, 1...\n"
     ]
    }
   ],
   "source": [
    "glimpse(data)"
   ]
  },
  {
   "cell_type": "markdown",
   "id": "8ba22841",
   "metadata": {},
   "source": [
    "Now, we use the function `summary()` in order to get the statistical information regarding our dataset. The statistical information includes *the minimum value, the maximum value, 1st Quartile, 3rd Quartile, Mean and Median values* for every column."
   ]
  },
  {
   "cell_type": "code",
   "execution_count": 67,
   "id": "60ceff71",
   "metadata": {},
   "outputs": [
    {
     "data": {
      "text/plain": [
       "     ï..age           sex               cp           trestbps    \n",
       " Min.   :29.00   Min.   :0.0000   Min.   :0.000   Min.   : 94.0  \n",
       " 1st Qu.:47.50   1st Qu.:0.0000   1st Qu.:0.000   1st Qu.:120.0  \n",
       " Median :55.00   Median :1.0000   Median :1.000   Median :130.0  \n",
       " Mean   :54.37   Mean   :0.6832   Mean   :0.967   Mean   :131.6  \n",
       " 3rd Qu.:61.00   3rd Qu.:1.0000   3rd Qu.:2.000   3rd Qu.:140.0  \n",
       " Max.   :77.00   Max.   :1.0000   Max.   :3.000   Max.   :200.0  \n",
       "      chol            fbs            restecg          thalach     \n",
       " Min.   :126.0   Min.   :0.0000   Min.   :0.0000   Min.   : 71.0  \n",
       " 1st Qu.:211.0   1st Qu.:0.0000   1st Qu.:0.0000   1st Qu.:133.5  \n",
       " Median :240.0   Median :0.0000   Median :1.0000   Median :153.0  \n",
       " Mean   :246.3   Mean   :0.1485   Mean   :0.5281   Mean   :149.6  \n",
       " 3rd Qu.:274.5   3rd Qu.:0.0000   3rd Qu.:1.0000   3rd Qu.:166.0  \n",
       " Max.   :564.0   Max.   :1.0000   Max.   :2.0000   Max.   :202.0  \n",
       "     exang           oldpeak         slope             ca        \n",
       " Min.   :0.0000   Min.   :0.00   Min.   :0.000   Min.   :0.0000  \n",
       " 1st Qu.:0.0000   1st Qu.:0.00   1st Qu.:1.000   1st Qu.:0.0000  \n",
       " Median :0.0000   Median :0.80   Median :1.000   Median :0.0000  \n",
       " Mean   :0.3267   Mean   :1.04   Mean   :1.399   Mean   :0.7294  \n",
       " 3rd Qu.:1.0000   3rd Qu.:1.60   3rd Qu.:2.000   3rd Qu.:1.0000  \n",
       " Max.   :1.0000   Max.   :6.20   Max.   :2.000   Max.   :4.0000  \n",
       "      thal           target      \n",
       " Min.   :0.000   Min.   :0.0000  \n",
       " 1st Qu.:2.000   1st Qu.:0.0000  \n",
       " Median :2.000   Median :1.0000  \n",
       " Mean   :2.314   Mean   :0.5446  \n",
       " 3rd Qu.:3.000   3rd Qu.:1.0000  \n",
       " Max.   :3.000   Max.   :1.0000  "
      ]
     },
     "metadata": {},
     "output_type": "display_data"
    }
   ],
   "source": [
    "summary(data)"
   ]
  },
  {
   "cell_type": "markdown",
   "id": "679e2f3d",
   "metadata": {},
   "source": [
    "### Dataset Description\n",
    "There are 14 features(columns) including the target. The features included in this dataset are:\n",
    "1. **age:** displays the age of the individual in years\n",
    "2. **sex:** displays the gender of the individual\n",
    "    + 0: Female\n",
    "    + 1: Male\n",
    "3. **cp:** Displays the type of chest pain experienced by the individual\n",
    "    + 1: atypical angina\n",
    "    + 2: non-anginal pain\n",
    "    + 3: asymptomatic angina\n",
    "4. **trestbps:** Displays the resting blood pressure value of an individual in mmHg(unit)\n",
    "5. **chol:** Displays the serum cholestrol in mg/dl\n",
    "6. **fbs:** Compares the fasting blood sugar level of an individual relative to 120 mg/dl:\n",
    "    + 0: fasting blooad sugar <= 120 mg/dl\n",
    "    + 1: fasting blooad sugar > 120 mg/dl\n",
    "7. **restecg:** Displays resting electrocardiographic(ECG) results:\n",
    "    + 0: normal\n",
    "    + 1: ST-T wave abnormality\n",
    "    + 2: left ventrical hyperthropy\n",
    "8. **thalach:** Displays the max heart rate achieved by an individual\n",
    "9. **exang:** Exercise induced chest pain\n",
    "    + 0: No\n",
    "    + 1: Yes\n",
    "10. **oldpeak:** ST(stress test) depression induced by exercise relative to rest, a measure of abnormality in electrocardiograms\n",
    "11. **slope:** The slope of the peak exercise ST segment, an electrocardiography read out indicating quality of blood flow to the heart\n",
    "    + 0: upsloaping\n",
    "    + 1: flat\n",
    "    + 2: downsloaping\n",
    "12. **ca:** Number of major vessels(0-3) colored by flourosopy\n",
    "13. **thal:** Displays the thalassemia with possible values:\n",
    "    + normal\n",
    "    + fixed_defect\n",
    "    + reversible_defect\n",
    "14. **target:** Displays whether the individual is suffering from heart disease or not:\n",
    "    + 0: absence\n",
    "    + 1: present"
   ]
  },
  {
   "cell_type": "markdown",
   "id": "6deca4ee",
   "metadata": {},
   "source": [
    "## Data Transformation"
   ]
  },
  {
   "cell_type": "markdown",
   "id": "7c317a5f",
   "metadata": {},
   "source": [
    "Now, that we are done exploring our dataset its time to transform our dataset for better readability so that it becomes easy to perform our analysis.\n",
    "In the step below, we create another dataset called ***data1*** consisting of our previous dataset called ***data*** and mutate it.\n",
    "As we know that certain columns have data entered in the form of binary, so by mutating the below mentioned columns, what we are actually doing is creating conditional statements by using `if_else` function in order for our data to be recognized the way we want it to be.\n",
    "\n",
    "As we can see, we mutate the column named ***sex*** by using `if_else` function and what we are actually doing here is giving the command such that if the *value of sex is 1* it gets replaced by **MALE** and if the *value of sex is 0* it gets replaced by **FEMALE**.\n",
    "Similarly, we mutate rest of the columns consisting of such binary data.\n",
    "\n",
    "At last we use to ***dplyr*** package which is used for data manipulation."
   ]
  },
  {
   "cell_type": "code",
   "execution_count": 68,
   "id": "a956a530",
   "metadata": {},
   "outputs": [],
   "source": [
    "data1 <- data %>% \n",
    "    mutate(sex = if_else(sex == 1, \"MALE\", \"FEMALE\"),\n",
    "           fbs = if_else(fbs == 1, \">120\", \"<=120\"),\n",
    "           exang = if_else(exang == 1, \"YES\", \"NO\"),\n",
    "           cp = if_else(cp == 1, \"ATYPICAL ANGINA\",\n",
    "                        if_else(cp == 2, \"NON-ANGINAL PAIN\", \"ASYMPTOMATIC\")),\n",
    "           restecg = if_else(restecg == 0, \"NORMAL\",\n",
    "                             if_else(restecg == 1, \"ABNORMALITY\", \"PROBABLE OR DEFINITE\")),\n",
    "           slope = as.factor(slope),\n",
    "           ca = as.factor(ca),\n",
    "           thal = as.factor(thal),\n",
    "           target = if_else(target == 1, \"YES\", \"NO\")\n",
    "          ) %>% \n",
    "mutate_if(is.character, as.factor) %>% \n",
    "dplyr::select(target, sex, fbs, exang, cp, restecg, slope, ca, thal, everything())"
   ]
  },
  {
   "cell_type": "markdown",
   "id": "d5fa4f55",
   "metadata": {},
   "source": [
    "*We can use the `head()` function to see our new dataset.*"
   ]
  },
  {
   "cell_type": "code",
   "execution_count": 69,
   "id": "45101485",
   "metadata": {},
   "outputs": [
    {
     "data": {
      "text/html": [
       "<table>\n",
       "<thead><tr><th scope=col>target</th><th scope=col>sex</th><th scope=col>fbs</th><th scope=col>exang</th><th scope=col>cp</th><th scope=col>restecg</th><th scope=col>slope</th><th scope=col>ca</th><th scope=col>thal</th><th scope=col>ï..age</th><th scope=col>trestbps</th><th scope=col>chol</th><th scope=col>thalach</th><th scope=col>oldpeak</th></tr></thead>\n",
       "<tbody>\n",
       "\t<tr><td>YES                                                     </td><td><span style=white-space:pre-wrap>MALE  </span>          </td><td>&gt;120                                                 </td><td>NO                                                      </td><td><span style=white-space:pre-wrap>ASYMPTOMATIC    </span></td><td><span style=white-space:pre-wrap>NORMAL     </span>     </td><td>0                                                       </td><td>0                                                       </td><td>1                                                       </td><td>63                                                      </td><td>145                                                     </td><td>233                                                     </td><td>150                                                     </td><td>2.3                                                     </td></tr>\n",
       "\t<tr><td>YES                                           </td><td><span style=white-space:pre-wrap>MALE  </span></td><td>&lt;=120                                      </td><td>NO                                            </td><td>NON-ANGINAL PAIN                              </td><td>ABNORMALITY                                   </td><td>0                                             </td><td>0                                             </td><td>2                                             </td><td>37                                            </td><td>130                                           </td><td>250                                           </td><td>187                                           </td><td>3.5                                           </td></tr>\n",
       "\t<tr><td>YES                                                </td><td>FEMALE                                             </td><td>&lt;=120                                           </td><td>NO                                                 </td><td>ATYPICAL ANGINA                                    </td><td><span style=white-space:pre-wrap>NORMAL     </span></td><td>2                                                  </td><td>0                                                  </td><td>2                                                  </td><td>41                                                 </td><td>130                                                </td><td>204                                                </td><td>172                                                </td><td>1.4                                                </td></tr>\n",
       "\t<tr><td>YES                                           </td><td><span style=white-space:pre-wrap>MALE  </span></td><td>&lt;=120                                      </td><td>NO                                            </td><td>ATYPICAL ANGINA                               </td><td>ABNORMALITY                                   </td><td>2                                             </td><td>0                                             </td><td>2                                             </td><td>56                                            </td><td>120                                           </td><td>236                                           </td><td>178                                           </td><td>0.8                                           </td></tr>\n",
       "\t<tr><td>YES                                                     </td><td>FEMALE                                                  </td><td>&lt;=120                                                </td><td>YES                                                     </td><td><span style=white-space:pre-wrap>ASYMPTOMATIC    </span></td><td>ABNORMALITY                                             </td><td>2                                                       </td><td>0                                                       </td><td>2                                                       </td><td>57                                                      </td><td>120                                                     </td><td>354                                                     </td><td>163                                                     </td><td>0.6                                                     </td></tr>\n",
       "\t<tr><td>YES                                                     </td><td><span style=white-space:pre-wrap>MALE  </span>          </td><td>&lt;=120                                                </td><td>NO                                                      </td><td><span style=white-space:pre-wrap>ASYMPTOMATIC    </span></td><td>ABNORMALITY                                             </td><td>1                                                       </td><td>0                                                       </td><td>1                                                       </td><td>57                                                      </td><td>140                                                     </td><td>192                                                     </td><td>148                                                     </td><td>0.4                                                     </td></tr>\n",
       "</tbody>\n",
       "</table>\n"
      ],
      "text/latex": [
       "\\begin{tabular}{r|llllllllllllll}\n",
       " target & sex & fbs & exang & cp & restecg & slope & ca & thal & ï..age & trestbps & chol & thalach & oldpeak\\\\\n",
       "\\hline\n",
       "\t YES              & MALE             & >120             & NO               & ASYMPTOMATIC     & NORMAL           & 0                & 0                & 1                & 63               & 145              & 233              & 150              & 2.3             \\\\\n",
       "\t YES              & MALE             & <=120            & NO               & NON-ANGINAL PAIN & ABNORMALITY      & 0                & 0                & 2                & 37               & 130              & 250              & 187              & 3.5             \\\\\n",
       "\t YES              & FEMALE           & <=120            & NO               & ATYPICAL ANGINA  & NORMAL           & 2                & 0                & 2                & 41               & 130              & 204              & 172              & 1.4             \\\\\n",
       "\t YES              & MALE             & <=120            & NO               & ATYPICAL ANGINA  & ABNORMALITY      & 2                & 0                & 2                & 56               & 120              & 236              & 178              & 0.8             \\\\\n",
       "\t YES              & FEMALE           & <=120            & YES              & ASYMPTOMATIC     & ABNORMALITY      & 2                & 0                & 2                & 57               & 120              & 354              & 163              & 0.6             \\\\\n",
       "\t YES              & MALE             & <=120            & NO               & ASYMPTOMATIC     & ABNORMALITY      & 1                & 0                & 1                & 57               & 140              & 192              & 148              & 0.4             \\\\\n",
       "\\end{tabular}\n"
      ],
      "text/markdown": [
       "\n",
       "| target | sex | fbs | exang | cp | restecg | slope | ca | thal | ï..age | trestbps | chol | thalach | oldpeak |\n",
       "|---|---|---|---|---|---|---|---|---|---|---|---|---|---|\n",
       "| YES              | MALE             | >120             | NO               | ASYMPTOMATIC     | NORMAL           | 0                | 0                | 1                | 63               | 145              | 233              | 150              | 2.3              |\n",
       "| YES              | MALE             | <=120            | NO               | NON-ANGINAL PAIN | ABNORMALITY      | 0                | 0                | 2                | 37               | 130              | 250              | 187              | 3.5              |\n",
       "| YES              | FEMALE           | <=120            | NO               | ATYPICAL ANGINA  | NORMAL           | 2                | 0                | 2                | 41               | 130              | 204              | 172              | 1.4              |\n",
       "| YES              | MALE             | <=120            | NO               | ATYPICAL ANGINA  | ABNORMALITY      | 2                | 0                | 2                | 56               | 120              | 236              | 178              | 0.8              |\n",
       "| YES              | FEMALE           | <=120            | YES              | ASYMPTOMATIC     | ABNORMALITY      | 2                | 0                | 2                | 57               | 120              | 354              | 163              | 0.6              |\n",
       "| YES              | MALE             | <=120            | NO               | ASYMPTOMATIC     | ABNORMALITY      | 1                | 0                | 1                | 57               | 140              | 192              | 148              | 0.4              |\n",
       "\n"
      ],
      "text/plain": [
       "  target sex    fbs   exang cp               restecg     slope ca thal ï..age\n",
       "1 YES    MALE   >120  NO    ASYMPTOMATIC     NORMAL      0     0  1    63    \n",
       "2 YES    MALE   <=120 NO    NON-ANGINAL PAIN ABNORMALITY 0     0  2    37    \n",
       "3 YES    FEMALE <=120 NO    ATYPICAL ANGINA  NORMAL      2     0  2    41    \n",
       "4 YES    MALE   <=120 NO    ATYPICAL ANGINA  ABNORMALITY 2     0  2    56    \n",
       "5 YES    FEMALE <=120 YES   ASYMPTOMATIC     ABNORMALITY 2     0  2    57    \n",
       "6 YES    MALE   <=120 NO    ASYMPTOMATIC     ABNORMALITY 1     0  1    57    \n",
       "  trestbps chol thalach oldpeak\n",
       "1 145      233  150     2.3    \n",
       "2 130      250  187     3.5    \n",
       "3 130      204  172     1.4    \n",
       "4 120      236  178     0.8    \n",
       "5 120      354  163     0.6    \n",
       "6 140      192  148     0.4    "
      ]
     },
     "metadata": {},
     "output_type": "display_data"
    }
   ],
   "source": [
    "head(data1)"
   ]
  },
  {
   "cell_type": "markdown",
   "id": "43a81241",
   "metadata": {},
   "source": [
    "## Data Visualization"
   ]
  },
  {
   "cell_type": "markdown",
   "id": "26788fad",
   "metadata": {},
   "source": [
    "We use the ***ggplot2*** package that contains several functions which make the Data Visualization task in R very interactive and easy."
   ]
  },
  {
   "cell_type": "markdown",
   "id": "08124c0d",
   "metadata": {},
   "source": [
    "### Bar plot for target (heart disease)"
   ]
  },
  {
   "cell_type": "code",
   "execution_count": 70,
   "id": "efc59bce",
   "metadata": {},
   "outputs": [
    {
     "data": {
      "image/png": "[encoded data removed]",
      "text/plain": [
       "plot without title"
      ]
     },
     "metadata": {},
     "output_type": "display_data"
    }
   ],
   "source": [
    "ggplot(data1, aes(x=data1$target, fill=data1$target))+\n",
    "    geom_bar()+\n",
    "    xlab(\"Heart Disease\")+\n",
    "    ylab(\"Count\")+\n",
    "    facet_grid(~sex)+\n",
    "    ggtitle(\"Presence & Absence of Heart Disease\")+\n",
    "    scale_fill_discrete(name = 'Heart Disease', labels = c(\"Absence\",\"Presence\"))"
   ]
  },
  {
   "cell_type": "markdown",
   "id": "cfc44464",
   "metadata": {},
   "source": [
    "Let us now see that what percent of the total are having *heart disease* and what percent of the total are *not having heart disease.* \n",
    "In order to do this we use the `prop.table()` function.\n",
    "Therefore, from the code below we can see that: \n",
    ">aproximately **46%** of the people are  *not having heart disease* whereas, aproximately **54%** of the people are *having heart disease*."
   ]
  },
  {
   "cell_type": "code",
   "execution_count": 71,
   "id": "5e287af4",
   "metadata": {},
   "outputs": [
    {
     "data": {
      "text/plain": [
       "\n",
       "       NO       YES \n",
       "0.4554455 0.5445545 "
      ]
     },
     "metadata": {},
     "output_type": "display_data"
    }
   ],
   "source": [
    "prop.table(table(data1$target))"
   ]
  },
  {
   "cell_type": "markdown",
   "id": "df1b5695",
   "metadata": {},
   "source": [
    "### Frequency of the values of age"
   ]
  },
  {
   "cell_type": "code",
   "execution_count": 72,
   "id": "5f7bd216",
   "metadata": {},
   "outputs": [
    {
     "data": {
      "image/png": "[encoded data removed]",
      "text/plain": [
       "plot without title"
      ]
     },
     "metadata": {},
     "output_type": "display_data"
    }
   ],
   "source": [
    "data1 %>% \n",
    "    group_by(ï..age) %>% \n",
    "    count() %>% \n",
    "    filter(n>10) %>% \n",
    "    ggplot()+\n",
    "    geom_col(aes(ï..age, n), alpha = 0.5, color = \"black\")+\n",
    "    ggtitle(\"Age Analysis\")+\n",
    "    xlab(\"Age\")+\n",
    "    ylab(\"Agecount\")+\n",
    "    annotate(\"rect\", xmin=(55), xmax=(61), ymin=(0), ymax=(19.5), alpha = 0.2, color=\"blue\", fill=\"cyan\")"
   ]
  },
  {
   "cell_type": "markdown",
   "id": "87ed4574",
   "metadata": {},
   "source": [
    "From the **Age Analysis** graph above we can see that most of the people are lying between the age group of ***55 to 60*** and the least number of people are between the age group of ***45 to 50***."
   ]
  },
  {
   "cell_type": "markdown",
   "id": "1700649f",
   "metadata": {},
   "source": [
    "### Comparing blood pressure across the chest pain type"
   ]
  },
  {
   "cell_type": "code",
   "execution_count": 73,
   "id": "09d9858f",
   "metadata": {},
   "outputs": [
    {
     "data": {
      "image/png": "[encoded data removed]",
      "text/plain": [
       "plot without title"
      ]
     },
     "metadata": {},
     "output_type": "display_data"
    }
   ],
   "source": [
    "data1 %>% \n",
    "    ggplot(aes(x=sex, y=trestbps))+\n",
    "    geom_boxplot(color=\"black\", fill=\"purple\", alpha = 0.6)+\n",
    "    ggtitle(\"Blood Pressure Vs Chest Pain Type\")+\n",
    "    xlab(\"Gender\")+\n",
    "    ylab(\"Blood Pressure\")+\n",
    "    facet_grid(~cp)"
   ]
  },
  {
   "cell_type": "markdown",
   "id": "eb073f4c",
   "metadata": {},
   "source": [
    "In the **Boxplot** above we are comapring the *Resting Blood Pressure* of each Gender type with the type of *Chest Pain*.<br>\n",
    "We use the `facet_grid()` function to split the plot into matrix of panels where each panel is showing different subset of the data which in this case reffers to the **Different types of Chest Pain**.<br><br>\n",
    "So, from all the three plots for different chest pains we can observe that there are quite a few outliers in case of *Males* as compared to *Females*.<br>\n",
    "This shows that *Males* are more inclined to get *pain in their chest* as compared to the *Females* because of the **Rising Blood Pressure**.\n"
   ]
  },
  {
   "cell_type": "markdown",
   "id": "d99196fc",
   "metadata": {},
   "source": [
    "### Comparing cholestrol across the chest pain type"
   ]
  },
  {
   "cell_type": "code",
   "execution_count": 74,
   "id": "b1d27114",
   "metadata": {},
   "outputs": [
    {
     "data": {
      "image/png": "[encoded data removed]",
      "text/plain": [
       "plot without title"
      ]
     },
     "metadata": {},
     "output_type": "display_data"
    }
   ],
   "source": [
    "data1 %>% \n",
    "    ggplot(aes(x=sex, y=chol))+\n",
    "    geom_boxplot(color=\"black\", fill=\"red\", alpha = 0.6)+\n",
    "    ggtitle(\"Cholestrol Vs Chest Pain Type\")+\n",
    "    xlab(\"Gender\")+\n",
    "    ylab(\"Cholestrol\")+\n",
    "    facet_grid(~cp)"
   ]
  },
  {
   "cell_type": "markdown",
   "id": "f98af45e",
   "metadata": {},
   "source": [
    "In the **Boxplot** above we are comapring the *Cholestrol Level* of each Gender type with the type of *Chest Pain*.<br>\n",
    "We use the `facet_grid()` function to split the plot into matrix of panels where each panel is showing different subset of the data which in this case reffers to the **Different types of Chest Pain**.<br><br>\n",
    "So, from all the three plots for different chest pains we can observe that outliers are only present in the case of <u>*Non-Anginal Pain*</u>.<br>\n",
    "From the boxplot for the <u>*Non-Anginal Pain*</u> we can see that *Females* are more likely to experience this type of pain as compared to *Males* because of **High Cholestrol Level**."
   ]
  },
  {
   "cell_type": "markdown",
   "id": "a71be5ec",
   "metadata": {},
   "source": [
    "### Cholestrol Level Vs Resting Blood Pressure"
   ]
  },
  {
   "cell_type": "markdown",
   "id": "b63c4078",
   "metadata": {},
   "source": [
    "In the graph shown below we plot a scatterplot for **Cholestrol Level**(*chol*) and **Resting Blood Pressure**(*trestbps*) for each Gender type and then use the `facet_grid()` function to split the plot into different subsets, which in this case reffers to whether a person is **Having Heart Disease** or **Not Having Heart Disease**."
   ]
  },
  {
   "cell_type": "code",
   "execution_count": 75,
   "id": "a39994c5",
   "metadata": {
    "scrolled": false
   },
   "outputs": [
    {
     "data": {
      "image/png": "[encoded data removed]",
      "text/plain": [
       "plot without title"
      ]
     },
     "metadata": {},
     "output_type": "display_data"
    }
   ],
   "source": [
    " ggplot(data1)+\n",
    "    geom_point(mapping = aes(x = chol, y = trestbps, color = sex))+\n",
    "    labs(title = \"Cholestrol Vs Resting Blood Pressure\")+\n",
    "    annotate(\"rect\", xmin = (120), ymin = (90), xmax = (310), ymax = (165), color = \"blue\", fill = \"black\", alpha = 0.1)+\n",
    "    facet_grid(~target)"
   ]
  },
  {
   "cell_type": "markdown",
   "id": "7e9fca6b",
   "metadata": {},
   "source": [
    "So from the highlted part in the plot shown above we can observe that *Females* having <u>*Cholestrol Level*</u> in the range of **120-310** & <u>*Resting Blood Pressure*</u> between* **90-150** are having quite high chances of ***Having Heart Disease*** as compared to *Males*."
   ]
  },
  {
   "cell_type": "markdown",
   "id": "d2397872",
   "metadata": {},
   "source": [
    "## Correlation"
   ]
  },
  {
   "cell_type": "markdown",
   "id": "9cb3730e",
   "metadata": {},
   "source": [
    "Installing `corrplot` & `ggplot2` packages to perform correlation."
   ]
  },
  {
   "cell_type": "code",
   "execution_count": 76,
   "id": "944dbdb5",
   "metadata": {},
   "outputs": [
    {
     "name": "stdout",
     "output_type": "stream",
     "text": [
      "\n",
      "  There is a binary version available but the source version is later:\n",
      "         binary source needs_compilation\n",
      "corrplot   0.88   0.90             FALSE\n",
      "\n"
     ]
    },
    {
     "name": "stderr",
     "output_type": "stream",
     "text": [
      "installing the source package 'corrplot'\n",
      "\n",
      "also installing the dependency 'rlang'\n",
      "\n"
     ]
    },
    {
     "name": "stdout",
     "output_type": "stream",
     "text": [
      "\n",
      "  There is a binary version available but the source version is later:\n",
      "        binary source needs_compilation\n",
      "ggplot2  3.3.3  3.3.5             FALSE\n",
      "\n",
      "package 'rlang' successfully unpacked and MD5 sums checked\n"
     ]
    },
    {
     "name": "stderr",
     "output_type": "stream",
     "text": [
      "Warning message:\n",
      "\"cannot remove prior installation of package 'rlang'\"Warning message in file.copy(savedcopy, lib, recursive = TRUE):\n",
      "\"problem copying C:\\Users\\kapoo\\anaconda3\\envs\\R\\Lib\\R\\library\\00LOCK\\rlang\\libs\\x64\\rlang.dll to C:\\Users\\kapoo\\anaconda3\\envs\\R\\Lib\\R\\library\\rlang\\libs\\x64\\rlang.dll: Permission denied\"Warning message:\n",
      "\"restored 'rlang'\""
     ]
    },
    {
     "name": "stdout",
     "output_type": "stream",
     "text": [
      "\n",
      "The downloaded binary packages are in\n",
      "\tC:\\Users\\kapoo\\AppData\\Local\\Temp\\RtmpsPGdHg\\downloaded_packages\n"
     ]
    },
    {
     "name": "stderr",
     "output_type": "stream",
     "text": [
      "installing the source package 'ggplot2'\n",
      "\n",
      "Warning message in install.packages(\"ggplot2\"):\n",
      "\"installation of package 'ggplot2' had non-zero exit status\""
     ]
    }
   ],
   "source": [
    "install.packages(\"corrplot\")\n",
    "install.packages(\"ggplot2\")"
   ]
  },
  {
   "cell_type": "code",
   "execution_count": 77,
   "id": "703b2f25",
   "metadata": {},
   "outputs": [
    {
     "name": "stderr",
     "output_type": "stream",
     "text": [
      "corrplot 0.90 loaded\n"
     ]
    }
   ],
   "source": [
    "library(corrplot)\n",
    "library(ggplot2)"
   ]
  },
  {
   "cell_type": "markdown",
   "id": "21e35ced",
   "metadata": {},
   "source": [
    "### Correlation Matrix"
   ]
  },
  {
   "cell_type": "code",
   "execution_count": 78,
   "id": "c2f39bbd",
   "metadata": {},
   "outputs": [
    {
     "data": {
      "text/html": [
       "<table>\n",
       "<thead><tr><th></th><th scope=col>ï..age</th><th scope=col>trestbps</th><th scope=col>chol</th><th scope=col>thalach</th><th scope=col>oldpeak</th></tr></thead>\n",
       "<tbody>\n",
       "\t<tr><th scope=row>ï..age</th><td> 1.0000000  </td><td> 0.27935091 </td><td> 0.213677957</td><td>-0.398521938</td><td> 0.21001257 </td></tr>\n",
       "\t<tr><th scope=row>trestbps</th><td> 0.2793509  </td><td> 1.00000000 </td><td> 0.123174207</td><td>-0.046697728</td><td> 0.19321647 </td></tr>\n",
       "\t<tr><th scope=row>chol</th><td> 0.2136780  </td><td> 0.12317421 </td><td> 1.000000000</td><td>-0.009939839</td><td> 0.05395192 </td></tr>\n",
       "\t<tr><th scope=row>thalach</th><td>-0.3985219  </td><td>-0.04669773 </td><td>-0.009939839</td><td> 1.000000000</td><td>-0.34418695 </td></tr>\n",
       "\t<tr><th scope=row>oldpeak</th><td> 0.2100126  </td><td> 0.19321647 </td><td> 0.053951920</td><td>-0.344186948</td><td> 1.00000000 </td></tr>\n",
       "</tbody>\n",
       "</table>\n"
      ],
      "text/latex": [
       "\\begin{tabular}{r|lllll}\n",
       "  & ï..age & trestbps & chol & thalach & oldpeak\\\\\n",
       "\\hline\n",
       "\tï..age &  1.0000000   &  0.27935091  &  0.213677957 & -0.398521938 &  0.21001257 \\\\\n",
       "\ttrestbps &  0.2793509   &  1.00000000  &  0.123174207 & -0.046697728 &  0.19321647 \\\\\n",
       "\tchol &  0.2136780   &  0.12317421  &  1.000000000 & -0.009939839 &  0.05395192 \\\\\n",
       "\tthalach & -0.3985219   & -0.04669773  & -0.009939839 &  1.000000000 & -0.34418695 \\\\\n",
       "\toldpeak &  0.2100126   &  0.19321647  &  0.053951920 & -0.344186948 &  1.00000000 \\\\\n",
       "\\end{tabular}\n"
      ],
      "text/markdown": [
       "\n",
       "| <!--/--> | ï..age | trestbps | chol | thalach | oldpeak |\n",
       "|---|---|---|---|---|---|\n",
       "| ï..age |  1.0000000   |  0.27935091  |  0.213677957 | -0.398521938 |  0.21001257  |\n",
       "| trestbps |  0.2793509   |  1.00000000  |  0.123174207 | -0.046697728 |  0.19321647  |\n",
       "| chol |  0.2136780   |  0.12317421  |  1.000000000 | -0.009939839 |  0.05395192  |\n",
       "| thalach | -0.3985219   | -0.04669773  | -0.009939839 |  1.000000000 | -0.34418695  |\n",
       "| oldpeak |  0.2100126   |  0.19321647  |  0.053951920 | -0.344186948 |  1.00000000  |\n",
       "\n"
      ],
      "text/plain": [
       "         ï..age     trestbps    chol         thalach      oldpeak    \n",
       "ï..age    1.0000000  0.27935091  0.213677957 -0.398521938  0.21001257\n",
       "trestbps  0.2793509  1.00000000  0.123174207 -0.046697728  0.19321647\n",
       "chol      0.2136780  0.12317421  1.000000000 -0.009939839  0.05395192\n",
       "thalach  -0.3985219 -0.04669773 -0.009939839  1.000000000 -0.34418695\n",
       "oldpeak   0.2100126  0.19321647  0.053951920 -0.344186948  1.00000000"
      ]
     },
     "metadata": {},
     "output_type": "display_data"
    }
   ],
   "source": [
    "cor_heart <- cor(data1[, 10:14])\n",
    "cor_heart"
   ]
  },
  {
   "cell_type": "markdown",
   "id": "b64975f7",
   "metadata": {},
   "source": [
    "From the **Correlation Matrix** shown above we can see that the numeric entries along the main diagonal from top left to bottom right are ones. One could show (by hand) that the correlation of two identical random variables is one. (I.e. Correlation of chol and chol is one).<br>\n",
    "Therefore, it is well observed that a correlation matrix is a *symmetric matrix*"
   ]
  },
  {
   "cell_type": "markdown",
   "id": "6d1cbb0c",
   "metadata": {},
   "source": [
    "### Correlation Plot"
   ]
  },
  {
   "cell_type": "code",
   "execution_count": 95,
   "id": "f7f05bd0",
   "metadata": {},
   "outputs": [
    {
     "data": {
      "image/png": "[encoded data removed]",
      "text/plain": [
       "Plot with title \"\n",
       "\n",
       " Correlation Plot \n",
       "\""
      ]
     },
     "metadata": {},
     "output_type": "display_data"
    }
   ],
   "source": [
    "colour_set <- colorRampPalette(colors = c(\"#d3dedd\", \"#a9d2ce\", \"#a0f7ee\", \"#56beb3\", \"#029889\"))\n",
    "\n",
    "corrplot(cor_heart, method = \"shade\", bg = \"White\", tl.srt = 35, tl.col = \"black\",\n",
    "         title = \"\\n\\n Correlation Plot \\n\",\n",
    "         addCoef.col = \"black\", type = \"full\",\n",
    "         col = colour_set(100))"
   ]
  }
 ],
 "metadata": {
  "kernelspec": {
   "display_name": "R",
   "language": "R",
   "name": "ir"
  },
  "language_info": {
   "codemirror_mode": "r",
   "file_extension": ".r",
   "mimetype": "text/x-r-source",
   "name": "R",
   "pygments_lexer": "r",
   "version": "3.6.1"
  }
 },
 "nbformat": 4,
 "nbformat_minor": 5
}
