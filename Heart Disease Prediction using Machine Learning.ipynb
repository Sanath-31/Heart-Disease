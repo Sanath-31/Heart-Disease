{
  "nbformat": 4,
  "nbformat_minor": 0,
  "metadata": {
    "colab": {
      "name": "Rough Notebook Part3 (using StackingClassifier).ipynb",
      "provenance": [],
      "collapsed_sections": [
        "A14uxEu_xsFO"
      ]
    },
    "kernelspec": {
      "name": "python3",
      "display_name": "Python 3"
    },
    "language_info": {
      "name": "python"
    }
  },
  "cells": [
    {
      "cell_type": "markdown",
      "metadata": {
        "id": "VocEjKw8w8_z"
      },
      "source": [
        "# **Heart Disease Prediction using Machine Learning and Data Analytics Approach**\n",
        "###### By: Sanath Kapoor\n",
        "###### Date: 05/10/2021"
      ]
    },
    {
      "cell_type": "markdown",
      "metadata": {
        "id": "A14uxEu_xsFO"
      },
      "source": [
        "---\n",
        "## **Introduction**\n",
        "---"
      ]
    },
    {
      "cell_type": "markdown",
      "metadata": {
        "id": "jPhz3FIUxwsU"
      },
      "source": [
        "The heart is an essential organ in a human body which pumps blood through the body. A proper blood circulation is essential for a healthy living. The health of a human heart is largely dependent on a person’s behaviour and experiences. Certain genetic factors can also affect a person’s health. Even young people are at high risk of developing heart diseases.<br>\n",
        "Machine learning is an AI method that enables software applications to improve their ability to predict outcomes without explicitly programming in. The algorithms used in Machine Learning rely on historical data to predict new output values. It does so by studying large sets of data. ML applications are tools that are used to perform specific tasks. They collect data independently and without human intervention. These algorithms are used to improve prediction accuracy.<br>\n",
        "Different data preprocessing tools will be applied in order to make the dataset efficient and unbiased. Also, methods like **Feature Scaling, Correlation Heatmap, Feature Selection** will be applied in order to make the dataset as efficient as possible in order to get better performance.<br>\n",
        "Machine learning classification algorithms such as **Naive Bayes, SVM and Random Forest** are going to be used to build our machine learning models. Also, a process called ***Ensemble Learning*** is going to be used which seeks better predictive performance such as high accuracy for classification. Hence, **XGBoost** which is an ensemble learning algorithm will be used to improve the performance of our model."
      ]
    },
    {
      "cell_type": "markdown",
      "metadata": {
        "id": "H1WqNRtfzOej"
      },
      "source": [
        "---\n",
        "## **Dataset Description**\n",
        "---"
      ]
    },
    {
      "cell_type": "markdown",
      "metadata": {
        "id": "heXPrUIkzUIO"
      },
      "source": [
        "The dataset is publically available on the [Kaggle](https:////www.kaggle.com/johnsmith88/heart-disease-dataset) website. The classification goal is to predict whether a person is having heart disease or not. The dataset provides the patients' information, It includes 1018 records and 14 attributes.<br>\n",
        "  ***Attributes:***<br>\n",
        "* **Age:** displays the age of the individual in years\n",
        "* **Sex:** displays the gender of the individual<br>\n",
        "0: Female<br>\n",
        "1: Male\n",
        "* **cp:** Displays the type of chest pain experienced by the individual<br>\n",
        "0: asymptomatic<br>\n",
        "1: atypical angina<br>\n",
        "2: non-anginal pain<br>\n",
        "3: typical angina\n",
        "* **trestbps:** Displays the resting blood pressure of an individual in mm/hg\n",
        "* **chol:** Displays the Serum Cholestrol in mg/dl\n",
        "* **fbs:** Compares the fasting blood sugar level of an individual relative to 120 mg/dl:<br>\n",
        "0: fasting blooad sugar <= 120 mg/dl<br>\n",
        "1: fasting blooad sugar > 120 mg/dl\n",
        "* **restecg:** Displays resting electrocardiographic(ECG) results:<br>\n",
        "0: normal<br>\n",
        "1: having ST-T wave abnormality<br>\n",
        "2: showing probable or definite left ventrical hyperthropy by Estes' criteria\n",
        "* **thalach:** Displays the max heart rate achieved by an individual\n",
        "* **exang:** Exercise induced chest pain<br>\n",
        "0: No<br>\n",
        "1: Yes\n",
        "* **oldpeak:** ST(stress test) depression induced by exercise relative to rest, a measure of abnormality in electrocardiograms\n",
        "* **slope:** The slope of the peak exercise ST segment, an electrocardiography read out indicating quality of blood flow to the heart<br>\n",
        "0: upsloping<br>\n",
        "1: flat<br>\n",
        "2: downsloping\n",
        "* **ca:** Number of major vessels(0-3)\n",
        "* **thal:** Displays the thalassemia with possible values:<br>\n",
        "1: normal<br>\n",
        "2: fixed_defect(no blood flow in some part of the heart)<br>\n",
        "3: reversible_defect(a blood flow is observed but it is not normal)<br>\n",
        "\n",
        "  ***Target variable to predict:***<br>\n",
        "* **target:** Displays whether the individual is suffering from heart disease or not:<br>\n",
        "0: absence<br>\n",
        "1: present<br>"
      ]
    },
    {
      "cell_type": "markdown",
      "metadata": {
        "id": "71Q_Q8n5zVqu"
      },
      "source": [
        "---\n",
        "## **Data Preprocessing**\n",
        "---"
      ]
    },
    {
      "cell_type": "markdown",
      "metadata": {
        "id": "ydlAW1ujzeMj"
      },
      "source": [
        "---\n",
        "### Importing the basic Libraries\n",
        "---"
      ]
    },
    {
      "cell_type": "code",
      "metadata": {
        "id": "K5N00cf8zQPS"
      },
      "source": [
        "import numpy as np\n",
        "import pandas as pd\n",
        "import matplotlib.pyplot as plt\n",
        "import seaborn as sns"
      ],
      "execution_count": null,
      "outputs": []
    },
    {
      "cell_type": "markdown",
      "metadata": {
        "id": "8ePAdHZ3zqPS"
      },
      "source": [
        "---\n",
        "### Importing the Dataset\n",
        "---"
      ]
    },
    {
      "cell_type": "markdown",
      "metadata": {
        "id": "andbD1iWzxi3"
      },
      "source": [
        "> In this step, the dataset is uploaded by using the `pd.read_csv` function and then two different entities are created named **X** which stores all the features or independent variables & **Y** which stores just the dependent variable, that is, the Target variable."
      ]
    },
    {
      "cell_type": "code",
      "metadata": {
        "id": "LjfIn9_3zngJ"
      },
      "source": [
        "dataset = pd.read_csv(\"/content/drive/MyDrive/Project/heart.csv\")"
      ],
      "execution_count": null,
      "outputs": []
    },
    {
      "cell_type": "markdown",
      "metadata": {
        "id": "WpFowRyL0Hxw"
      },
      "source": [
        "> In order to see first few rows of the dataset `dataset.head()` funtion and used followed by the `dataset.info()` function which provides the details of the dataset."
      ]
    },
    {
      "cell_type": "code",
      "metadata": {
        "colab": {
          "base_uri": "https://localhost:8080/",
          "height": 203
        },
        "id": "6b4zBz2dzunj",
        "outputId": "1812b657-e945-4a37-9b81-83057c226b0b"
      },
      "source": [
        "dataset.head()"
      ],
      "execution_count": null,
      "outputs": [
        {
          "output_type": "execute_result",
          "data": {
            "text/html": [
              "<div>\n",
              "<style scoped>\n",
              "    .dataframe tbody tr th:only-of-type {\n",
              "        vertical-align: middle;\n",
              "    }\n",
              "\n",
              "    .dataframe tbody tr th {\n",
              "        vertical-align: top;\n",
              "    }\n",
              "\n",
              "    .dataframe thead th {\n",
              "        text-align: right;\n",
              "    }\n",
              "</style>\n",
              "<table border=\"1\" class=\"dataframe\">\n",
              "  <thead>\n",
              "    <tr style=\"text-align: right;\">\n",
              "      <th></th>\n",
              "      <th>age</th>\n",
              "      <th>sex</th>\n",
              "      <th>cp</th>\n",
              "      <th>trestbps</th>\n",
              "      <th>chol</th>\n",
              "      <th>fbs</th>\n",
              "      <th>restecg</th>\n",
              "      <th>thalach</th>\n",
              "      <th>exang</th>\n",
              "      <th>oldpeak</th>\n",
              "      <th>slope</th>\n",
              "      <th>ca</th>\n",
              "      <th>thal</th>\n",
              "      <th>target</th>\n",
              "    </tr>\n",
              "  </thead>\n",
              "  <tbody>\n",
              "    <tr>\n",
              "      <th>0</th>\n",
              "      <td>63</td>\n",
              "      <td>1</td>\n",
              "      <td>3</td>\n",
              "      <td>145</td>\n",
              "      <td>233</td>\n",
              "      <td>1</td>\n",
              "      <td>0</td>\n",
              "      <td>150</td>\n",
              "      <td>0</td>\n",
              "      <td>2.3</td>\n",
              "      <td>0</td>\n",
              "      <td>0</td>\n",
              "      <td>1</td>\n",
              "      <td>1</td>\n",
              "    </tr>\n",
              "    <tr>\n",
              "      <th>1</th>\n",
              "      <td>37</td>\n",
              "      <td>1</td>\n",
              "      <td>2</td>\n",
              "      <td>130</td>\n",
              "      <td>250</td>\n",
              "      <td>0</td>\n",
              "      <td>1</td>\n",
              "      <td>187</td>\n",
              "      <td>0</td>\n",
              "      <td>3.5</td>\n",
              "      <td>0</td>\n",
              "      <td>0</td>\n",
              "      <td>2</td>\n",
              "      <td>1</td>\n",
              "    </tr>\n",
              "    <tr>\n",
              "      <th>2</th>\n",
              "      <td>41</td>\n",
              "      <td>0</td>\n",
              "      <td>1</td>\n",
              "      <td>130</td>\n",
              "      <td>204</td>\n",
              "      <td>0</td>\n",
              "      <td>0</td>\n",
              "      <td>172</td>\n",
              "      <td>0</td>\n",
              "      <td>1.4</td>\n",
              "      <td>2</td>\n",
              "      <td>0</td>\n",
              "      <td>2</td>\n",
              "      <td>1</td>\n",
              "    </tr>\n",
              "    <tr>\n",
              "      <th>3</th>\n",
              "      <td>56</td>\n",
              "      <td>1</td>\n",
              "      <td>1</td>\n",
              "      <td>120</td>\n",
              "      <td>236</td>\n",
              "      <td>0</td>\n",
              "      <td>1</td>\n",
              "      <td>178</td>\n",
              "      <td>0</td>\n",
              "      <td>0.8</td>\n",
              "      <td>2</td>\n",
              "      <td>0</td>\n",
              "      <td>2</td>\n",
              "      <td>1</td>\n",
              "    </tr>\n",
              "    <tr>\n",
              "      <th>4</th>\n",
              "      <td>57</td>\n",
              "      <td>0</td>\n",
              "      <td>0</td>\n",
              "      <td>120</td>\n",
              "      <td>354</td>\n",
              "      <td>0</td>\n",
              "      <td>1</td>\n",
              "      <td>163</td>\n",
              "      <td>1</td>\n",
              "      <td>0.6</td>\n",
              "      <td>2</td>\n",
              "      <td>0</td>\n",
              "      <td>2</td>\n",
              "      <td>1</td>\n",
              "    </tr>\n",
              "  </tbody>\n",
              "</table>\n",
              "</div>"
            ],
            "text/plain": [
              "   age  sex  cp  trestbps  chol  fbs  ...  exang  oldpeak  slope  ca  thal  target\n",
              "0   63    1   3       145   233    1  ...      0      2.3      0   0     1       1\n",
              "1   37    1   2       130   250    0  ...      0      3.5      0   0     2       1\n",
              "2   41    0   1       130   204    0  ...      0      1.4      2   0     2       1\n",
              "3   56    1   1       120   236    0  ...      0      0.8      2   0     2       1\n",
              "4   57    0   0       120   354    0  ...      1      0.6      2   0     2       1\n",
              "\n",
              "[5 rows x 14 columns]"
            ]
          },
          "metadata": {},
          "execution_count": 4
        }
      ]
    },
    {
      "cell_type": "code",
      "metadata": {
        "colab": {
          "base_uri": "https://localhost:8080/"
        },
        "id": "i7f22Uxx0XLj",
        "outputId": "a6d4245c-fc2f-4b8b-f4f0-a3a0dcadfddb"
      },
      "source": [
        "dataset.info()"
      ],
      "execution_count": null,
      "outputs": [
        {
          "output_type": "stream",
          "name": "stdout",
          "text": [
            "<class 'pandas.core.frame.DataFrame'>\n",
            "RangeIndex: 303 entries, 0 to 302\n",
            "Data columns (total 14 columns):\n",
            " #   Column    Non-Null Count  Dtype  \n",
            "---  ------    --------------  -----  \n",
            " 0   age       303 non-null    int64  \n",
            " 1   sex       303 non-null    int64  \n",
            " 2   cp        303 non-null    int64  \n",
            " 3   trestbps  303 non-null    int64  \n",
            " 4   chol      303 non-null    int64  \n",
            " 5   fbs       303 non-null    int64  \n",
            " 6   restecg   303 non-null    int64  \n",
            " 7   thalach   303 non-null    int64  \n",
            " 8   exang     303 non-null    int64  \n",
            " 9   oldpeak   303 non-null    float64\n",
            " 10  slope     303 non-null    int64  \n",
            " 11  ca        303 non-null    int64  \n",
            " 12  thal      303 non-null    int64  \n",
            " 13  target    303 non-null    int64  \n",
            "dtypes: float64(1), int64(13)\n",
            "memory usage: 33.3 KB\n"
          ]
        }
      ]
    },
    {
      "cell_type": "markdown",
      "metadata": {
        "id": "yqSSYvfRq1CV"
      },
      "source": [
        "---\n",
        "### Checking the Data Type\n",
        "---"
      ]
    },
    {
      "cell_type": "code",
      "metadata": {
        "colab": {
          "base_uri": "https://localhost:8080/"
        },
        "id": "YRUaB2sgwnDt",
        "outputId": "390813c4-1ed2-47de-9f32-8ba0b799816a"
      },
      "source": [
        "dataset.dtypes"
      ],
      "execution_count": null,
      "outputs": [
        {
          "output_type": "execute_result",
          "data": {
            "text/plain": [
              "age           int64\n",
              "sex           int64\n",
              "cp            int64\n",
              "trestbps      int64\n",
              "chol          int64\n",
              "fbs           int64\n",
              "restecg       int64\n",
              "thalach       int64\n",
              "exang         int64\n",
              "oldpeak     float64\n",
              "slope         int64\n",
              "ca            int64\n",
              "thal          int64\n",
              "target        int64\n",
              "dtype: object"
            ]
          },
          "metadata": {},
          "execution_count": 6
        }
      ]
    },
    {
      "cell_type": "markdown",
      "metadata": {
        "id": "UU1EWpcN2fi5"
      },
      "source": [
        "> Now, lets use the `nunique()` function to return the number of unique elements in a feature."
      ]
    },
    {
      "cell_type": "code",
      "metadata": {
        "colab": {
          "base_uri": "https://localhost:8080/"
        },
        "id": "NRS3O-m6y3m_",
        "outputId": "71eb721d-aa99-4180-dd8d-944e2e832f44"
      },
      "source": [
        "dataset.nunique()"
      ],
      "execution_count": null,
      "outputs": [
        {
          "output_type": "execute_result",
          "data": {
            "text/plain": [
              "age          41\n",
              "sex           2\n",
              "cp            4\n",
              "trestbps     49\n",
              "chol        152\n",
              "fbs           2\n",
              "restecg       3\n",
              "thalach      91\n",
              "exang         2\n",
              "oldpeak      40\n",
              "slope         3\n",
              "ca            5\n",
              "thal          4\n",
              "target        2\n",
              "dtype: int64"
            ]
          },
          "metadata": {},
          "execution_count": 7
        }
      ]
    },
    {
      "cell_type": "markdown",
      "metadata": {
        "id": "1vfWv8Wb0smf"
      },
      "source": [
        "> As we know that the feature **ca** ranges from 0–3 which means it can have 4 values ranging from 0-3. However, `df.nunique()` listed **ca** having 5 values, that is, ranging from 0-4. So lets find the ‘4’ and change them to NaN."
      ]
    },
    {
      "cell_type": "code",
      "metadata": {
        "colab": {
          "base_uri": "https://localhost:8080/"
        },
        "id": "N2fOCEOE0sIC",
        "outputId": "0adc7fb1-9c4b-4d68-ab3f-d898978f8f61"
      },
      "source": [
        "dataset['ca'].unique()"
      ],
      "execution_count": null,
      "outputs": [
        {
          "output_type": "execute_result",
          "data": {
            "text/plain": [
              "array([0, 2, 1, 3, 4])"
            ]
          },
          "metadata": {},
          "execution_count": 8
        }
      ]
    },
    {
      "cell_type": "code",
      "metadata": {
        "colab": {
          "base_uri": "https://localhost:8080/"
        },
        "id": "a9tUvVK71nbP",
        "outputId": "88937ae3-eb87-4d5e-b126-c413bf93b32c"
      },
      "source": [
        "# to count the number in of each category decending order\n",
        "dataset.ca.value_counts()"
      ],
      "execution_count": null,
      "outputs": [
        {
          "output_type": "execute_result",
          "data": {
            "text/plain": [
              "0    175\n",
              "1     65\n",
              "2     38\n",
              "3     20\n",
              "4      5\n",
              "Name: ca, dtype: int64"
            ]
          },
          "metadata": {},
          "execution_count": 9
        }
      ]
    },
    {
      "cell_type": "code",
      "metadata": {
        "colab": {
          "base_uri": "https://localhost:8080/",
          "height": 203
        },
        "id": "Tx9Psj4j22xr",
        "outputId": "976b85d3-c71b-498a-a694-3a7be2da9abd"
      },
      "source": [
        "# to find the row for '4'\n",
        "dataset[dataset['ca']==4]"
      ],
      "execution_count": null,
      "outputs": [
        {
          "output_type": "execute_result",
          "data": {
            "text/html": [
              "<div>\n",
              "<style scoped>\n",
              "    .dataframe tbody tr th:only-of-type {\n",
              "        vertical-align: middle;\n",
              "    }\n",
              "\n",
              "    .dataframe tbody tr th {\n",
              "        vertical-align: top;\n",
              "    }\n",
              "\n",
              "    .dataframe thead th {\n",
              "        text-align: right;\n",
              "    }\n",
              "</style>\n",
              "<table border=\"1\" class=\"dataframe\">\n",
              "  <thead>\n",
              "    <tr style=\"text-align: right;\">\n",
              "      <th></th>\n",
              "      <th>age</th>\n",
              "      <th>sex</th>\n",
              "      <th>cp</th>\n",
              "      <th>trestbps</th>\n",
              "      <th>chol</th>\n",
              "      <th>fbs</th>\n",
              "      <th>restecg</th>\n",
              "      <th>thalach</th>\n",
              "      <th>exang</th>\n",
              "      <th>oldpeak</th>\n",
              "      <th>slope</th>\n",
              "      <th>ca</th>\n",
              "      <th>thal</th>\n",
              "      <th>target</th>\n",
              "    </tr>\n",
              "  </thead>\n",
              "  <tbody>\n",
              "    <tr>\n",
              "      <th>92</th>\n",
              "      <td>52</td>\n",
              "      <td>1</td>\n",
              "      <td>2</td>\n",
              "      <td>138</td>\n",
              "      <td>223</td>\n",
              "      <td>0</td>\n",
              "      <td>1</td>\n",
              "      <td>169</td>\n",
              "      <td>0</td>\n",
              "      <td>0.0</td>\n",
              "      <td>2</td>\n",
              "      <td>4</td>\n",
              "      <td>2</td>\n",
              "      <td>1</td>\n",
              "    </tr>\n",
              "    <tr>\n",
              "      <th>158</th>\n",
              "      <td>58</td>\n",
              "      <td>1</td>\n",
              "      <td>1</td>\n",
              "      <td>125</td>\n",
              "      <td>220</td>\n",
              "      <td>0</td>\n",
              "      <td>1</td>\n",
              "      <td>144</td>\n",
              "      <td>0</td>\n",
              "      <td>0.4</td>\n",
              "      <td>1</td>\n",
              "      <td>4</td>\n",
              "      <td>3</td>\n",
              "      <td>1</td>\n",
              "    </tr>\n",
              "    <tr>\n",
              "      <th>163</th>\n",
              "      <td>38</td>\n",
              "      <td>1</td>\n",
              "      <td>2</td>\n",
              "      <td>138</td>\n",
              "      <td>175</td>\n",
              "      <td>0</td>\n",
              "      <td>1</td>\n",
              "      <td>173</td>\n",
              "      <td>0</td>\n",
              "      <td>0.0</td>\n",
              "      <td>2</td>\n",
              "      <td>4</td>\n",
              "      <td>2</td>\n",
              "      <td>1</td>\n",
              "    </tr>\n",
              "    <tr>\n",
              "      <th>164</th>\n",
              "      <td>38</td>\n",
              "      <td>1</td>\n",
              "      <td>2</td>\n",
              "      <td>138</td>\n",
              "      <td>175</td>\n",
              "      <td>0</td>\n",
              "      <td>1</td>\n",
              "      <td>173</td>\n",
              "      <td>0</td>\n",
              "      <td>0.0</td>\n",
              "      <td>2</td>\n",
              "      <td>4</td>\n",
              "      <td>2</td>\n",
              "      <td>1</td>\n",
              "    </tr>\n",
              "    <tr>\n",
              "      <th>251</th>\n",
              "      <td>43</td>\n",
              "      <td>1</td>\n",
              "      <td>0</td>\n",
              "      <td>132</td>\n",
              "      <td>247</td>\n",
              "      <td>1</td>\n",
              "      <td>0</td>\n",
              "      <td>143</td>\n",
              "      <td>1</td>\n",
              "      <td>0.1</td>\n",
              "      <td>1</td>\n",
              "      <td>4</td>\n",
              "      <td>3</td>\n",
              "      <td>0</td>\n",
              "    </tr>\n",
              "  </tbody>\n",
              "</table>\n",
              "</div>"
            ],
            "text/plain": [
              "     age  sex  cp  trestbps  chol  fbs  ...  exang  oldpeak  slope  ca  thal  target\n",
              "92    52    1   2       138   223    0  ...      0      0.0      2   4     2       1\n",
              "158   58    1   1       125   220    0  ...      0      0.4      1   4     3       1\n",
              "163   38    1   2       138   175    0  ...      0      0.0      2   4     2       1\n",
              "164   38    1   2       138   175    0  ...      0      0.0      2   4     2       1\n",
              "251   43    1   0       132   247    1  ...      1      0.1      1   4     3       0\n",
              "\n",
              "[5 rows x 14 columns]"
            ]
          },
          "metadata": {},
          "execution_count": 10
        }
      ]
    },
    {
      "cell_type": "code",
      "metadata": {
        "id": "PBD9_IR33G93"
      },
      "source": [
        "dataset.loc[dataset['ca']==4, 'ca'] = np.NaN"
      ],
      "execution_count": null,
      "outputs": []
    },
    {
      "cell_type": "code",
      "metadata": {
        "colab": {
          "base_uri": "https://localhost:8080/"
        },
        "id": "msFTZ8eB3ZL7",
        "outputId": "20035839-1097-4fd9-b7e4-9ba61010f143"
      },
      "source": [
        "dataset['ca'].unique()"
      ],
      "execution_count": null,
      "outputs": [
        {
          "output_type": "execute_result",
          "data": {
            "text/plain": [
              "array([ 0.,  2.,  1.,  3., nan])"
            ]
          },
          "metadata": {},
          "execution_count": 12
        }
      ]
    },
    {
      "cell_type": "markdown",
      "metadata": {
        "id": "FubeKVvN4lhB"
      },
      "source": [
        "> Similarly, feature **thal** ranges from 1–3, which means it will have total 3 values. However, `dataset.nunique()` listed **thal** having in total 4 values, that is, ranging from 0-4. So lets find the ‘0’ and change them to NaN."
      ]
    },
    {
      "cell_type": "code",
      "metadata": {
        "colab": {
          "base_uri": "https://localhost:8080/"
        },
        "id": "-SmkC1wX5CQ-",
        "outputId": "c7e080c0-a825-4869-9e80-2d51220e2673"
      },
      "source": [
        "dataset['thal'].unique()\n",
        "\n",
        "# to count the number in of each category decending order\n",
        "dataset.thal.value_counts()"
      ],
      "execution_count": null,
      "outputs": [
        {
          "output_type": "execute_result",
          "data": {
            "text/plain": [
              "2    166\n",
              "3    117\n",
              "1     18\n",
              "0      2\n",
              "Name: thal, dtype: int64"
            ]
          },
          "metadata": {},
          "execution_count": 13
        }
      ]
    },
    {
      "cell_type": "code",
      "metadata": {
        "colab": {
          "base_uri": "https://localhost:8080/",
          "height": 110
        },
        "id": "2Tm45X6S5dMU",
        "outputId": "453f11c7-bf7e-4c04-98d8-23ad6807f387"
      },
      "source": [
        "# to find the row for '0'\n",
        "dataset[dataset['thal']==0]"
      ],
      "execution_count": null,
      "outputs": [
        {
          "output_type": "execute_result",
          "data": {
            "text/html": [
              "<div>\n",
              "<style scoped>\n",
              "    .dataframe tbody tr th:only-of-type {\n",
              "        vertical-align: middle;\n",
              "    }\n",
              "\n",
              "    .dataframe tbody tr th {\n",
              "        vertical-align: top;\n",
              "    }\n",
              "\n",
              "    .dataframe thead th {\n",
              "        text-align: right;\n",
              "    }\n",
              "</style>\n",
              "<table border=\"1\" class=\"dataframe\">\n",
              "  <thead>\n",
              "    <tr style=\"text-align: right;\">\n",
              "      <th></th>\n",
              "      <th>age</th>\n",
              "      <th>sex</th>\n",
              "      <th>cp</th>\n",
              "      <th>trestbps</th>\n",
              "      <th>chol</th>\n",
              "      <th>fbs</th>\n",
              "      <th>restecg</th>\n",
              "      <th>thalach</th>\n",
              "      <th>exang</th>\n",
              "      <th>oldpeak</th>\n",
              "      <th>slope</th>\n",
              "      <th>ca</th>\n",
              "      <th>thal</th>\n",
              "      <th>target</th>\n",
              "    </tr>\n",
              "  </thead>\n",
              "  <tbody>\n",
              "    <tr>\n",
              "      <th>48</th>\n",
              "      <td>53</td>\n",
              "      <td>0</td>\n",
              "      <td>2</td>\n",
              "      <td>128</td>\n",
              "      <td>216</td>\n",
              "      <td>0</td>\n",
              "      <td>0</td>\n",
              "      <td>115</td>\n",
              "      <td>0</td>\n",
              "      <td>0.0</td>\n",
              "      <td>2</td>\n",
              "      <td>0.0</td>\n",
              "      <td>0</td>\n",
              "      <td>1</td>\n",
              "    </tr>\n",
              "    <tr>\n",
              "      <th>281</th>\n",
              "      <td>52</td>\n",
              "      <td>1</td>\n",
              "      <td>0</td>\n",
              "      <td>128</td>\n",
              "      <td>204</td>\n",
              "      <td>1</td>\n",
              "      <td>1</td>\n",
              "      <td>156</td>\n",
              "      <td>1</td>\n",
              "      <td>1.0</td>\n",
              "      <td>1</td>\n",
              "      <td>0.0</td>\n",
              "      <td>0</td>\n",
              "      <td>0</td>\n",
              "    </tr>\n",
              "  </tbody>\n",
              "</table>\n",
              "</div>"
            ],
            "text/plain": [
              "     age  sex  cp  trestbps  chol  ...  oldpeak  slope   ca  thal  target\n",
              "48    53    0   2       128   216  ...      0.0      2  0.0     0       1\n",
              "281   52    1   0       128   204  ...      1.0      1  0.0     0       0\n",
              "\n",
              "[2 rows x 14 columns]"
            ]
          },
          "metadata": {},
          "execution_count": 14
        }
      ]
    },
    {
      "cell_type": "code",
      "metadata": {
        "colab": {
          "base_uri": "https://localhost:8080/"
        },
        "id": "GG3QVcaj5nLG",
        "outputId": "b301b610-23da-41e1-c6da-adb81c7777ef"
      },
      "source": [
        "dataset.loc[dataset['thal']==0, 'thal'] = np.NaN\n",
        "dataset['thal'].unique()"
      ],
      "execution_count": null,
      "outputs": [
        {
          "output_type": "execute_result",
          "data": {
            "text/plain": [
              "array([ 1.,  2.,  3., nan])"
            ]
          },
          "metadata": {},
          "execution_count": 15
        }
      ]
    },
    {
      "cell_type": "markdown",
      "metadata": {
        "id": "FDtjDp8jD7ud"
      },
      "source": [
        "---\n",
        "### Missing Values\n",
        "---"
      ]
    },
    {
      "cell_type": "code",
      "metadata": {
        "colab": {
          "base_uri": "https://localhost:8080/"
        },
        "id": "DqWh6QKS5z8W",
        "outputId": "a249194c-891d-420e-82c9-9f4ee5307bc4"
      },
      "source": [
        "# to check missing values\n",
        "dataset.isnull().sum()"
      ],
      "execution_count": null,
      "outputs": [
        {
          "output_type": "execute_result",
          "data": {
            "text/plain": [
              "age         0\n",
              "sex         0\n",
              "cp          0\n",
              "trestbps    0\n",
              "chol        0\n",
              "fbs         0\n",
              "restecg     0\n",
              "thalach     0\n",
              "exang       0\n",
              "oldpeak     0\n",
              "slope       0\n",
              "ca          5\n",
              "thal        2\n",
              "target      0\n",
              "dtype: int64"
            ]
          },
          "metadata": {},
          "execution_count": 16
        }
      ]
    },
    {
      "cell_type": "code",
      "metadata": {
        "colab": {
          "base_uri": "https://localhost:8080/"
        },
        "id": "zFZLNAxKBaan",
        "outputId": "9c139ec6-d85f-4291-e994-a09aeadad35b"
      },
      "source": [
        "#total percentage of missing data\n",
        "missing_data = dataset.isnull().sum()\n",
        "total_percentage = (missing_data.sum()/dataset.shape[0])*100\n",
        "print(f'The total percentage of missing data is {round(total_percentage,2)}%')"
      ],
      "execution_count": null,
      "outputs": [
        {
          "output_type": "stream",
          "name": "stdout",
          "text": [
            "The total percentage of missing data is 2.31%\n"
          ]
        }
      ]
    },
    {
      "cell_type": "markdown",
      "metadata": {
        "id": "ZfpExYGN6CRc"
      },
      "source": [
        "> Replacing the 'NaN' values with the median."
      ]
    },
    {
      "cell_type": "code",
      "metadata": {
        "colab": {
          "base_uri": "https://localhost:8080/"
        },
        "id": "z9aK1f8R6GDe",
        "outputId": "c03f5018-1afd-4f19-fdf3-c8ddd8e8aa26"
      },
      "source": [
        "dataset = dataset.fillna(dataset.median())\n",
        "dataset.isnull().sum()"
      ],
      "execution_count": null,
      "outputs": [
        {
          "output_type": "execute_result",
          "data": {
            "text/plain": [
              "age         0\n",
              "sex         0\n",
              "cp          0\n",
              "trestbps    0\n",
              "chol        0\n",
              "fbs         0\n",
              "restecg     0\n",
              "thalach     0\n",
              "exang       0\n",
              "oldpeak     0\n",
              "slope       0\n",
              "ca          0\n",
              "thal        0\n",
              "target      0\n",
              "dtype: int64"
            ]
          },
          "metadata": {},
          "execution_count": 18
        }
      ]
    },
    {
      "cell_type": "markdown",
      "metadata": {
        "id": "Mjb_ORKZ6zZ8"
      },
      "source": [
        "> As we can observe that all the missing data from our dataset has been replaced with the median, leaving no missing data behind."
      ]
    },
    {
      "cell_type": "markdown",
      "metadata": {
        "id": "5dvkKvB3C3kI"
      },
      "source": [
        "---\n",
        "### Removing Duplicate Rows\n",
        "---\n",
        "\n",
        "\n"
      ]
    },
    {
      "cell_type": "code",
      "metadata": {
        "colab": {
          "base_uri": "https://localhost:8080/"
        },
        "id": "oEpLD2Dj7f2S",
        "outputId": "76f454af-2a57-4879-ab3f-10cc44a7ad5c"
      },
      "source": [
        "duplicated = dataset.duplicated().sum()\n",
        "if duplicated:\n",
        "  print('Duplicate Rows in Dataset are: {}'.format(duplicated))\n",
        "else:\n",
        "  print('Dataset contains no Duplicate Rows')"
      ],
      "execution_count": null,
      "outputs": [
        {
          "output_type": "stream",
          "name": "stdout",
          "text": [
            "Duplicate Rows in Dataset are: 1\n"
          ]
        }
      ]
    },
    {
      "cell_type": "code",
      "metadata": {
        "colab": {
          "base_uri": "https://localhost:8080/",
          "height": 110
        },
        "id": "29xdrQbR72TQ",
        "outputId": "e4d527b4-c4db-430f-ef9f-5d045e1e1c58"
      },
      "source": [
        "duplicated = dataset[dataset.duplicated(keep=False)]\n",
        "duplicated.head()"
      ],
      "execution_count": null,
      "outputs": [
        {
          "output_type": "execute_result",
          "data": {
            "text/html": [
              "<div>\n",
              "<style scoped>\n",
              "    .dataframe tbody tr th:only-of-type {\n",
              "        vertical-align: middle;\n",
              "    }\n",
              "\n",
              "    .dataframe tbody tr th {\n",
              "        vertical-align: top;\n",
              "    }\n",
              "\n",
              "    .dataframe thead th {\n",
              "        text-align: right;\n",
              "    }\n",
              "</style>\n",
              "<table border=\"1\" class=\"dataframe\">\n",
              "  <thead>\n",
              "    <tr style=\"text-align: right;\">\n",
              "      <th></th>\n",
              "      <th>age</th>\n",
              "      <th>sex</th>\n",
              "      <th>cp</th>\n",
              "      <th>trestbps</th>\n",
              "      <th>chol</th>\n",
              "      <th>fbs</th>\n",
              "      <th>restecg</th>\n",
              "      <th>thalach</th>\n",
              "      <th>exang</th>\n",
              "      <th>oldpeak</th>\n",
              "      <th>slope</th>\n",
              "      <th>ca</th>\n",
              "      <th>thal</th>\n",
              "      <th>target</th>\n",
              "    </tr>\n",
              "  </thead>\n",
              "  <tbody>\n",
              "    <tr>\n",
              "      <th>163</th>\n",
              "      <td>38</td>\n",
              "      <td>1</td>\n",
              "      <td>2</td>\n",
              "      <td>138</td>\n",
              "      <td>175</td>\n",
              "      <td>0</td>\n",
              "      <td>1</td>\n",
              "      <td>173</td>\n",
              "      <td>0</td>\n",
              "      <td>0.0</td>\n",
              "      <td>2</td>\n",
              "      <td>0.0</td>\n",
              "      <td>2.0</td>\n",
              "      <td>1</td>\n",
              "    </tr>\n",
              "    <tr>\n",
              "      <th>164</th>\n",
              "      <td>38</td>\n",
              "      <td>1</td>\n",
              "      <td>2</td>\n",
              "      <td>138</td>\n",
              "      <td>175</td>\n",
              "      <td>0</td>\n",
              "      <td>1</td>\n",
              "      <td>173</td>\n",
              "      <td>0</td>\n",
              "      <td>0.0</td>\n",
              "      <td>2</td>\n",
              "      <td>0.0</td>\n",
              "      <td>2.0</td>\n",
              "      <td>1</td>\n",
              "    </tr>\n",
              "  </tbody>\n",
              "</table>\n",
              "</div>"
            ],
            "text/plain": [
              "     age  sex  cp  trestbps  chol  ...  oldpeak  slope   ca  thal  target\n",
              "163   38    1   2       138   175  ...      0.0      2  0.0   2.0       1\n",
              "164   38    1   2       138   175  ...      0.0      2  0.0   2.0       1\n",
              "\n",
              "[2 rows x 14 columns]"
            ]
          },
          "metadata": {},
          "execution_count": 20
        }
      ]
    },
    {
      "cell_type": "markdown",
      "metadata": {
        "id": "LtJeyfzN9YBf"
      },
      "source": [
        "> There is only 1 duplicate row present in our dataset, so in order to make our dataset clean and unbiased, lets drop the duplicate row by using the `dataset.drop_duplicates()` function."
      ]
    },
    {
      "cell_type": "code",
      "metadata": {
        "id": "9N5s1Upn81rw"
      },
      "source": [
        "dataset = dataset.drop_duplicates()"
      ],
      "execution_count": null,
      "outputs": []
    },
    {
      "cell_type": "code",
      "metadata": {
        "colab": {
          "base_uri": "https://localhost:8080/",
          "height": 417
        },
        "id": "cSA-xMyl_A6h",
        "outputId": "a64c426f-c146-4dca-e7e7-9d5e1142a861"
      },
      "source": [
        "dataset"
      ],
      "execution_count": null,
      "outputs": [
        {
          "output_type": "execute_result",
          "data": {
            "text/html": [
              "<div>\n",
              "<style scoped>\n",
              "    .dataframe tbody tr th:only-of-type {\n",
              "        vertical-align: middle;\n",
              "    }\n",
              "\n",
              "    .dataframe tbody tr th {\n",
              "        vertical-align: top;\n",
              "    }\n",
              "\n",
              "    .dataframe thead th {\n",
              "        text-align: right;\n",
              "    }\n",
              "</style>\n",
              "<table border=\"1\" class=\"dataframe\">\n",
              "  <thead>\n",
              "    <tr style=\"text-align: right;\">\n",
              "      <th></th>\n",
              "      <th>age</th>\n",
              "      <th>sex</th>\n",
              "      <th>cp</th>\n",
              "      <th>trestbps</th>\n",
              "      <th>chol</th>\n",
              "      <th>fbs</th>\n",
              "      <th>restecg</th>\n",
              "      <th>thalach</th>\n",
              "      <th>exang</th>\n",
              "      <th>oldpeak</th>\n",
              "      <th>slope</th>\n",
              "      <th>ca</th>\n",
              "      <th>thal</th>\n",
              "      <th>target</th>\n",
              "    </tr>\n",
              "  </thead>\n",
              "  <tbody>\n",
              "    <tr>\n",
              "      <th>0</th>\n",
              "      <td>63</td>\n",
              "      <td>1</td>\n",
              "      <td>3</td>\n",
              "      <td>145</td>\n",
              "      <td>233</td>\n",
              "      <td>1</td>\n",
              "      <td>0</td>\n",
              "      <td>150</td>\n",
              "      <td>0</td>\n",
              "      <td>2.3</td>\n",
              "      <td>0</td>\n",
              "      <td>0.0</td>\n",
              "      <td>1.0</td>\n",
              "      <td>1</td>\n",
              "    </tr>\n",
              "    <tr>\n",
              "      <th>1</th>\n",
              "      <td>37</td>\n",
              "      <td>1</td>\n",
              "      <td>2</td>\n",
              "      <td>130</td>\n",
              "      <td>250</td>\n",
              "      <td>0</td>\n",
              "      <td>1</td>\n",
              "      <td>187</td>\n",
              "      <td>0</td>\n",
              "      <td>3.5</td>\n",
              "      <td>0</td>\n",
              "      <td>0.0</td>\n",
              "      <td>2.0</td>\n",
              "      <td>1</td>\n",
              "    </tr>\n",
              "    <tr>\n",
              "      <th>2</th>\n",
              "      <td>41</td>\n",
              "      <td>0</td>\n",
              "      <td>1</td>\n",
              "      <td>130</td>\n",
              "      <td>204</td>\n",
              "      <td>0</td>\n",
              "      <td>0</td>\n",
              "      <td>172</td>\n",
              "      <td>0</td>\n",
              "      <td>1.4</td>\n",
              "      <td>2</td>\n",
              "      <td>0.0</td>\n",
              "      <td>2.0</td>\n",
              "      <td>1</td>\n",
              "    </tr>\n",
              "    <tr>\n",
              "      <th>3</th>\n",
              "      <td>56</td>\n",
              "      <td>1</td>\n",
              "      <td>1</td>\n",
              "      <td>120</td>\n",
              "      <td>236</td>\n",
              "      <td>0</td>\n",
              "      <td>1</td>\n",
              "      <td>178</td>\n",
              "      <td>0</td>\n",
              "      <td>0.8</td>\n",
              "      <td>2</td>\n",
              "      <td>0.0</td>\n",
              "      <td>2.0</td>\n",
              "      <td>1</td>\n",
              "    </tr>\n",
              "    <tr>\n",
              "      <th>4</th>\n",
              "      <td>57</td>\n",
              "      <td>0</td>\n",
              "      <td>0</td>\n",
              "      <td>120</td>\n",
              "      <td>354</td>\n",
              "      <td>0</td>\n",
              "      <td>1</td>\n",
              "      <td>163</td>\n",
              "      <td>1</td>\n",
              "      <td>0.6</td>\n",
              "      <td>2</td>\n",
              "      <td>0.0</td>\n",
              "      <td>2.0</td>\n",
              "      <td>1</td>\n",
              "    </tr>\n",
              "    <tr>\n",
              "      <th>...</th>\n",
              "      <td>...</td>\n",
              "      <td>...</td>\n",
              "      <td>...</td>\n",
              "      <td>...</td>\n",
              "      <td>...</td>\n",
              "      <td>...</td>\n",
              "      <td>...</td>\n",
              "      <td>...</td>\n",
              "      <td>...</td>\n",
              "      <td>...</td>\n",
              "      <td>...</td>\n",
              "      <td>...</td>\n",
              "      <td>...</td>\n",
              "      <td>...</td>\n",
              "    </tr>\n",
              "    <tr>\n",
              "      <th>298</th>\n",
              "      <td>57</td>\n",
              "      <td>0</td>\n",
              "      <td>0</td>\n",
              "      <td>140</td>\n",
              "      <td>241</td>\n",
              "      <td>0</td>\n",
              "      <td>1</td>\n",
              "      <td>123</td>\n",
              "      <td>1</td>\n",
              "      <td>0.2</td>\n",
              "      <td>1</td>\n",
              "      <td>0.0</td>\n",
              "      <td>3.0</td>\n",
              "      <td>0</td>\n",
              "    </tr>\n",
              "    <tr>\n",
              "      <th>299</th>\n",
              "      <td>45</td>\n",
              "      <td>1</td>\n",
              "      <td>3</td>\n",
              "      <td>110</td>\n",
              "      <td>264</td>\n",
              "      <td>0</td>\n",
              "      <td>1</td>\n",
              "      <td>132</td>\n",
              "      <td>0</td>\n",
              "      <td>1.2</td>\n",
              "      <td>1</td>\n",
              "      <td>0.0</td>\n",
              "      <td>3.0</td>\n",
              "      <td>0</td>\n",
              "    </tr>\n",
              "    <tr>\n",
              "      <th>300</th>\n",
              "      <td>68</td>\n",
              "      <td>1</td>\n",
              "      <td>0</td>\n",
              "      <td>144</td>\n",
              "      <td>193</td>\n",
              "      <td>1</td>\n",
              "      <td>1</td>\n",
              "      <td>141</td>\n",
              "      <td>0</td>\n",
              "      <td>3.4</td>\n",
              "      <td>1</td>\n",
              "      <td>2.0</td>\n",
              "      <td>3.0</td>\n",
              "      <td>0</td>\n",
              "    </tr>\n",
              "    <tr>\n",
              "      <th>301</th>\n",
              "      <td>57</td>\n",
              "      <td>1</td>\n",
              "      <td>0</td>\n",
              "      <td>130</td>\n",
              "      <td>131</td>\n",
              "      <td>0</td>\n",
              "      <td>1</td>\n",
              "      <td>115</td>\n",
              "      <td>1</td>\n",
              "      <td>1.2</td>\n",
              "      <td>1</td>\n",
              "      <td>1.0</td>\n",
              "      <td>3.0</td>\n",
              "      <td>0</td>\n",
              "    </tr>\n",
              "    <tr>\n",
              "      <th>302</th>\n",
              "      <td>57</td>\n",
              "      <td>0</td>\n",
              "      <td>1</td>\n",
              "      <td>130</td>\n",
              "      <td>236</td>\n",
              "      <td>0</td>\n",
              "      <td>0</td>\n",
              "      <td>174</td>\n",
              "      <td>0</td>\n",
              "      <td>0.0</td>\n",
              "      <td>1</td>\n",
              "      <td>1.0</td>\n",
              "      <td>2.0</td>\n",
              "      <td>0</td>\n",
              "    </tr>\n",
              "  </tbody>\n",
              "</table>\n",
              "<p>302 rows × 14 columns</p>\n",
              "</div>"
            ],
            "text/plain": [
              "     age  sex  cp  trestbps  chol  ...  oldpeak  slope   ca  thal  target\n",
              "0     63    1   3       145   233  ...      2.3      0  0.0   1.0       1\n",
              "1     37    1   2       130   250  ...      3.5      0  0.0   2.0       1\n",
              "2     41    0   1       130   204  ...      1.4      2  0.0   2.0       1\n",
              "3     56    1   1       120   236  ...      0.8      2  0.0   2.0       1\n",
              "4     57    0   0       120   354  ...      0.6      2  0.0   2.0       1\n",
              "..   ...  ...  ..       ...   ...  ...      ...    ...  ...   ...     ...\n",
              "298   57    0   0       140   241  ...      0.2      1  0.0   3.0       0\n",
              "299   45    1   3       110   264  ...      1.2      1  0.0   3.0       0\n",
              "300   68    1   0       144   193  ...      3.4      1  2.0   3.0       0\n",
              "301   57    1   0       130   131  ...      1.2      1  1.0   3.0       0\n",
              "302   57    0   1       130   236  ...      0.0      1  1.0   2.0       0\n",
              "\n",
              "[302 rows x 14 columns]"
            ]
          },
          "metadata": {},
          "execution_count": 22
        }
      ]
    },
    {
      "cell_type": "markdown",
      "metadata": {
        "id": "RF1ieNy49DIj"
      },
      "source": [
        "> As we can see, that one of our duplicate rows has been removed and now we are having a dataset with **302 rows** & **14 columns**."
      ]
    },
    {
      "cell_type": "markdown",
      "metadata": {
        "id": "4MALoQdrDWXP"
      },
      "source": [
        "---\n",
        "### Removing Outliers\n",
        "---\n",
        "\n"
      ]
    },
    {
      "cell_type": "markdown",
      "metadata": {
        "id": "OF48C1_30a1u"
      },
      "source": [
        "> Let us now use the `dataset.describe()` function which is used to get a statistical summary of the dataset.<br>\n",
        "Any set of data can be described by its five-number summary. These five numbers, which give you the information you need to find patterns and outliers, consist of (in ascending order):\n",
        "* The minimum or lowest value of the dataset\n",
        "* The first quartile Q1, which represents a quarter of the way through the list of all data\n",
        "* The median of the data set, which represents the midpoint of the whole list of data\n",
        "* The third quartile Q3, which represents three-quarters of the way through the list of all data\n",
        "* The maximum or highest value of the data set."
      ]
    },
    {
      "cell_type": "code",
      "metadata": {
        "colab": {
          "base_uri": "https://localhost:8080/",
          "height": 315
        },
        "id": "CfVp8wit0Y01",
        "outputId": "1645f978-c327-4aaa-b88e-3006884c56ba"
      },
      "source": [
        "dataset.describe()"
      ],
      "execution_count": null,
      "outputs": [
        {
          "output_type": "execute_result",
          "data": {
            "text/html": [
              "<div>\n",
              "<style scoped>\n",
              "    .dataframe tbody tr th:only-of-type {\n",
              "        vertical-align: middle;\n",
              "    }\n",
              "\n",
              "    .dataframe tbody tr th {\n",
              "        vertical-align: top;\n",
              "    }\n",
              "\n",
              "    .dataframe thead th {\n",
              "        text-align: right;\n",
              "    }\n",
              "</style>\n",
              "<table border=\"1\" class=\"dataframe\">\n",
              "  <thead>\n",
              "    <tr style=\"text-align: right;\">\n",
              "      <th></th>\n",
              "      <th>age</th>\n",
              "      <th>sex</th>\n",
              "      <th>cp</th>\n",
              "      <th>trestbps</th>\n",
              "      <th>chol</th>\n",
              "      <th>fbs</th>\n",
              "      <th>restecg</th>\n",
              "      <th>thalach</th>\n",
              "      <th>exang</th>\n",
              "      <th>oldpeak</th>\n",
              "      <th>slope</th>\n",
              "      <th>ca</th>\n",
              "      <th>thal</th>\n",
              "      <th>target</th>\n",
              "    </tr>\n",
              "  </thead>\n",
              "  <tbody>\n",
              "    <tr>\n",
              "      <th>count</th>\n",
              "      <td>302.00000</td>\n",
              "      <td>302.000000</td>\n",
              "      <td>302.000000</td>\n",
              "      <td>302.000000</td>\n",
              "      <td>302.000000</td>\n",
              "      <td>302.000000</td>\n",
              "      <td>302.000000</td>\n",
              "      <td>302.000000</td>\n",
              "      <td>302.000000</td>\n",
              "      <td>302.000000</td>\n",
              "      <td>302.000000</td>\n",
              "      <td>302.000000</td>\n",
              "      <td>302.000000</td>\n",
              "      <td>302.000000</td>\n",
              "    </tr>\n",
              "    <tr>\n",
              "      <th>mean</th>\n",
              "      <td>54.42053</td>\n",
              "      <td>0.682119</td>\n",
              "      <td>0.963576</td>\n",
              "      <td>131.602649</td>\n",
              "      <td>246.500000</td>\n",
              "      <td>0.149007</td>\n",
              "      <td>0.526490</td>\n",
              "      <td>149.569536</td>\n",
              "      <td>0.327815</td>\n",
              "      <td>1.043046</td>\n",
              "      <td>1.397351</td>\n",
              "      <td>0.665563</td>\n",
              "      <td>2.327815</td>\n",
              "      <td>0.543046</td>\n",
              "    </tr>\n",
              "    <tr>\n",
              "      <th>std</th>\n",
              "      <td>9.04797</td>\n",
              "      <td>0.466426</td>\n",
              "      <td>1.032044</td>\n",
              "      <td>17.563394</td>\n",
              "      <td>51.753489</td>\n",
              "      <td>0.356686</td>\n",
              "      <td>0.526027</td>\n",
              "      <td>22.903527</td>\n",
              "      <td>0.470196</td>\n",
              "      <td>1.161452</td>\n",
              "      <td>0.616274</td>\n",
              "      <td>0.935142</td>\n",
              "      <td>0.583683</td>\n",
              "      <td>0.498970</td>\n",
              "    </tr>\n",
              "    <tr>\n",
              "      <th>min</th>\n",
              "      <td>29.00000</td>\n",
              "      <td>0.000000</td>\n",
              "      <td>0.000000</td>\n",
              "      <td>94.000000</td>\n",
              "      <td>126.000000</td>\n",
              "      <td>0.000000</td>\n",
              "      <td>0.000000</td>\n",
              "      <td>71.000000</td>\n",
              "      <td>0.000000</td>\n",
              "      <td>0.000000</td>\n",
              "      <td>0.000000</td>\n",
              "      <td>0.000000</td>\n",
              "      <td>1.000000</td>\n",
              "      <td>0.000000</td>\n",
              "    </tr>\n",
              "    <tr>\n",
              "      <th>25%</th>\n",
              "      <td>48.00000</td>\n",
              "      <td>0.000000</td>\n",
              "      <td>0.000000</td>\n",
              "      <td>120.000000</td>\n",
              "      <td>211.000000</td>\n",
              "      <td>0.000000</td>\n",
              "      <td>0.000000</td>\n",
              "      <td>133.250000</td>\n",
              "      <td>0.000000</td>\n",
              "      <td>0.000000</td>\n",
              "      <td>1.000000</td>\n",
              "      <td>0.000000</td>\n",
              "      <td>2.000000</td>\n",
              "      <td>0.000000</td>\n",
              "    </tr>\n",
              "    <tr>\n",
              "      <th>50%</th>\n",
              "      <td>55.50000</td>\n",
              "      <td>1.000000</td>\n",
              "      <td>1.000000</td>\n",
              "      <td>130.000000</td>\n",
              "      <td>240.500000</td>\n",
              "      <td>0.000000</td>\n",
              "      <td>1.000000</td>\n",
              "      <td>152.500000</td>\n",
              "      <td>0.000000</td>\n",
              "      <td>0.800000</td>\n",
              "      <td>1.000000</td>\n",
              "      <td>0.000000</td>\n",
              "      <td>2.000000</td>\n",
              "      <td>1.000000</td>\n",
              "    </tr>\n",
              "    <tr>\n",
              "      <th>75%</th>\n",
              "      <td>61.00000</td>\n",
              "      <td>1.000000</td>\n",
              "      <td>2.000000</td>\n",
              "      <td>140.000000</td>\n",
              "      <td>274.750000</td>\n",
              "      <td>0.000000</td>\n",
              "      <td>1.000000</td>\n",
              "      <td>166.000000</td>\n",
              "      <td>1.000000</td>\n",
              "      <td>1.600000</td>\n",
              "      <td>2.000000</td>\n",
              "      <td>1.000000</td>\n",
              "      <td>3.000000</td>\n",
              "      <td>1.000000</td>\n",
              "    </tr>\n",
              "    <tr>\n",
              "      <th>max</th>\n",
              "      <td>77.00000</td>\n",
              "      <td>1.000000</td>\n",
              "      <td>3.000000</td>\n",
              "      <td>200.000000</td>\n",
              "      <td>564.000000</td>\n",
              "      <td>1.000000</td>\n",
              "      <td>2.000000</td>\n",
              "      <td>202.000000</td>\n",
              "      <td>1.000000</td>\n",
              "      <td>6.200000</td>\n",
              "      <td>2.000000</td>\n",
              "      <td>3.000000</td>\n",
              "      <td>3.000000</td>\n",
              "      <td>1.000000</td>\n",
              "    </tr>\n",
              "  </tbody>\n",
              "</table>\n",
              "</div>"
            ],
            "text/plain": [
              "             age         sex          cp  ...          ca        thal      target\n",
              "count  302.00000  302.000000  302.000000  ...  302.000000  302.000000  302.000000\n",
              "mean    54.42053    0.682119    0.963576  ...    0.665563    2.327815    0.543046\n",
              "std      9.04797    0.466426    1.032044  ...    0.935142    0.583683    0.498970\n",
              "min     29.00000    0.000000    0.000000  ...    0.000000    1.000000    0.000000\n",
              "25%     48.00000    0.000000    0.000000  ...    0.000000    2.000000    0.000000\n",
              "50%     55.50000    1.000000    1.000000  ...    0.000000    2.000000    1.000000\n",
              "75%     61.00000    1.000000    2.000000  ...    1.000000    3.000000    1.000000\n",
              "max     77.00000    1.000000    3.000000  ...    3.000000    3.000000    1.000000\n",
              "\n",
              "[8 rows x 14 columns]"
            ]
          },
          "metadata": {},
          "execution_count": 23
        }
      ]
    },
    {
      "cell_type": "markdown",
      "metadata": {
        "id": "V6qyyQDf-lRx"
      },
      "source": [
        "> From the statistical summary shown above we get an idea by observing the continuous variables of our dataset that there might be some outliers present.<br>\n",
        "For instance, if we observe the **chol** feature in the above table, we see that there is a vast difference between the *3rd Qaurtile (75%) and the max value* which means that there might be some outliers present.<br>\n",
        "In order to get a better picture, we will plot the outliers with the help of **Boxplot**."
      ]
    },
    {
      "cell_type": "code",
      "metadata": {
        "colab": {
          "base_uri": "https://localhost:8080/",
          "height": 571
        },
        "id": "6BA8Q-hRAiZm",
        "outputId": "b8e4c377-32d8-4ca3-f0ed-e20cf4299bcc"
      },
      "source": [
        "dataset.plot(kind='box', subplots=True, layout=(2,7),\n",
        "sharex=False,sharey=False, figsize=(20, 10), \n",
        "color='purple');"
      ],
      "execution_count": null,
      "outputs": [
        {
          "output_type": "display_data",
          "data": {
            "image/png": "[encoded data removed]",
            "text/plain": [
              "<Figure size 1440x720 with 14 Axes>"
            ]
          },
          "metadata": {
            "needs_background": "light"
          }
        }
      ]
    },
    {
      "cell_type": "markdown",
      "metadata": {
        "id": "1VUVIYdyBF_b"
      },
      "source": [
        "> From the Boxplot shown above, it can be confirmed that some of the continuous features of our dataset are having maojority number of outliers present in them.<br>\n",
        "In order to remove these outliers we will be use **Inter Quartile Range (IQR) method**.<br>\n",
        "The inter quartile method finds the outliers on numerical/continuous features by following the procedure given below:\n",
        "* Find the first quartile, Q1.\n",
        "* Find the third quartile, Q3.\n",
        "* Calculate the IQR. IQR= Q3-Q1.\n",
        "* Define the normal data range with lower limit as Q1–1.5*IQR and upper limit as Q3+1.5*IQR.\n",
        "* Any data point outside this range is considered as outlier and should be removed for further analysis.<br><br>\n",
        "\n",
        "Full Reference: [here](https://towardsdatascience.com/practical-implementation-of-outlier-detection-in-python-90680453b3ce)"
      ]
    },
    {
      "cell_type": "markdown",
      "metadata": {
        "id": "VoZ45y-exv1i"
      },
      "source": [
        "> Let us first make a function named **outlier_IQR()** in order to get the total number of outliers present in each coninuous feature of our dataset and then use the same funtion to drop the outliers from the dataset."
      ]
    },
    {
      "cell_type": "code",
      "metadata": {
        "colab": {
          "base_uri": "https://localhost:8080/"
        },
        "id": "EmGRRfN3swXh",
        "outputId": "4e63127f-7644-45e7-961d-92d46317fc6e"
      },
      "source": [
        "# define continuous variable & plot\n",
        "continous_features = ['age','trestbps','chol','thalach','oldpeak']  \n",
        "def outlier_IQR(dataset_out, drop = False):\n",
        "    for each_feature in dataset_out.columns:\n",
        "        feature_data = dataset_out[each_feature]\n",
        "        Q1 = np.percentile(feature_data, 25.) # 25th percentile of the data of the given feature\n",
        "        Q3 = np.percentile(feature_data, 75.) # 75th percentile of the data of the given feature\n",
        "        IQR = Q3-Q1 #Interquartile Range\n",
        "        outlier_step = IQR * 1.5 #That's we were talking about above\n",
        "        outlier_IQR = feature_data[~((feature_data >= Q1 - outlier_step) & (feature_data <= Q3 + outlier_step))].index.tolist()  \n",
        "        if not drop:\n",
        "            print('For the feature {}, No of Outliers is {}'.format(each_feature, len(outlier_IQR)))\n",
        "        if drop:\n",
        "            dataset.drop(outlier_IQR, inplace = True, errors = 'ignore')\n",
        "            print('Outliers from {} feature removed'.format(each_feature))\n",
        "\n",
        "outlier_IQR(dataset[continous_features])"
      ],
      "execution_count": null,
      "outputs": [
        {
          "output_type": "stream",
          "name": "stdout",
          "text": [
            "For the feature age, No of Outliers is 0\n",
            "For the feature trestbps, No of Outliers is 9\n",
            "For the feature chol, No of Outliers is 5\n",
            "For the feature thalach, No of Outliers is 1\n",
            "For the feature oldpeak, No of Outliers is 5\n"
          ]
        }
      ]
    },
    {
      "cell_type": "markdown",
      "metadata": {
        "id": "Hg9yo_KIEeN6"
      },
      "source": [
        "> The list above shows the number of outliers present in each continuous feature.<br>\n",
        "Now, lets drop these outliers for better and more accurate performance of our Machine Learning Models, as presence of data outliers can spoil and mislead the training process resulting in *longer training times, less accurate models and ultimately poorer results*. <br>\n",
        "So now lets remove these outliers by using the same funtion with the parameter `drop=True`."
      ]
    },
    {
      "cell_type": "code",
      "metadata": {
        "colab": {
          "base_uri": "https://localhost:8080/"
        },
        "id": "MvQODxmhvJbY",
        "outputId": "93b72753-fc25-404a-95ad-b2dc4bbd5b90"
      },
      "source": [
        "outlier_IQR(dataset[continous_features], drop=True)"
      ],
      "execution_count": null,
      "outputs": [
        {
          "output_type": "stream",
          "name": "stdout",
          "text": [
            "Outliers from age feature removed\n",
            "Outliers from trestbps feature removed\n",
            "Outliers from chol feature removed\n",
            "Outliers from thalach feature removed\n",
            "Outliers from oldpeak feature removed\n"
          ]
        }
      ]
    },
    {
      "cell_type": "code",
      "metadata": {
        "colab": {
          "base_uri": "https://localhost:8080/"
        },
        "id": "o0zLz6CxGnYX",
        "outputId": "835e784f-b0b6-48af-e15c-bf0b146d84ca"
      },
      "source": [
        "dataset.shape"
      ],
      "execution_count": null,
      "outputs": [
        {
          "output_type": "execute_result",
          "data": {
            "text/plain": [
              "(283, 14)"
            ]
          },
          "metadata": {},
          "execution_count": 27
        }
      ]
    },
    {
      "cell_type": "markdown",
      "metadata": {
        "id": "yUKkwG0Ez4Nk"
      },
      "source": [
        "> The list above shows that all the outliers which were present in our coninuous features have been removed. So lets check it once again by plotting **Boxplot** for the same."
      ]
    },
    {
      "cell_type": "code",
      "metadata": {
        "colab": {
          "base_uri": "https://localhost:8080/",
          "height": 571
        },
        "id": "EVzIpheVtYwU",
        "outputId": "d3800cc8-ac4c-4cf2-f22a-80a7c2d4edc9"
      },
      "source": [
        "dataset.plot(kind='box', subplots=True, layout=(2,7),\n",
        "sharex=False,sharey=False, figsize=(20, 10), \n",
        "color='purple');"
      ],
      "execution_count": null,
      "outputs": [
        {
          "output_type": "display_data",
          "data": {
            "image/png": "[encoded data removed]",
            "text/plain": [
              "<Figure size 1440x720 with 14 Axes>"
            ]
          },
          "metadata": {
            "needs_background": "light"
          }
        }
      ]
    },
    {
      "cell_type": "markdown",
      "metadata": {
        "id": "kjvnS5ea3v05"
      },
      "source": [
        "> As we can very well see from the boxplots shown above, tha,t all the outliers which were earlier present in the continuous features of our dataset have now been removed making our dataset all cleaned up and ready to split it into training and test set."
      ]
    },
    {
      "cell_type": "markdown",
      "metadata": {
        "id": "Rcghm6jOEm3Z"
      },
      "source": [
        "---\n",
        "### Splitting the dataset into Trainig Set & Test Set\n",
        "---"
      ]
    },
    {
      "cell_type": "markdown",
      "metadata": {
        "id": "Ge-F5xiXG0ZY"
      },
      "source": [
        "> Lets first create two subsets of the dataset named **X** and **y** containing the *Independent Features* and *Dependent Feature(target variable)* respectively, and then split them into training set and test set.<br>\n",
        "After which we will split both of them into tarining_set & test_set in the ratio of **80:20** respectively by using the `train_test_split()` function.<br>\n",
        " "
      ]
    },
    {
      "cell_type": "code",
      "metadata": {
        "id": "DPJinZAhHjP_",
        "colab": {
          "base_uri": "https://localhost:8080/"
        },
        "outputId": "601d7d09-3f01-489f-c9dd-d027641817a5"
      },
      "source": [
        "from sklearn.model_selection import train_test_split\n",
        "X = dataset.iloc[:, :-1].values\n",
        "y = dataset.iloc[:, -1].values\n",
        "X_train, X_test, y_train, y_test = train_test_split(X, y, test_size=0.2, stratify=y, random_state=0)\n",
        "\n",
        "X_train.shape, X_test.shape, y_train.shape, y_test.shape"
      ],
      "execution_count": null,
      "outputs": [
        {
          "output_type": "execute_result",
          "data": {
            "text/plain": [
              "((226, 13), (57, 13), (226,), (57,))"
            ]
          },
          "metadata": {},
          "execution_count": 29
        }
      ]
    },
    {
      "cell_type": "code",
      "metadata": {
        "colab": {
          "base_uri": "https://localhost:8080/"
        },
        "id": "wsjen0_Hd0um",
        "outputId": "e48ed46e-cf9a-4903-98d5-cdcd77f4b1a1"
      },
      "source": [
        "print(X_train)"
      ],
      "execution_count": null,
      "outputs": [
        {
          "output_type": "stream",
          "name": "stdout",
          "text": [
            "[[76.  0.  2. ...  1.  0.  2.]\n",
            " [71.  0.  0. ...  1.  0.  2.]\n",
            " [59.  1.  1. ...  2.  0.  2.]\n",
            " ...\n",
            " [67.  1.  0. ...  1.  3.  2.]\n",
            " [57.  1.  2. ...  1.  1.  3.]\n",
            " [38.  1.  3. ...  1.  0.  3.]]\n"
          ]
        }
      ]
    },
    {
      "cell_type": "markdown",
      "metadata": {
        "id": "zlbUVa3E6k9t"
      },
      "source": [
        "---\n",
        "### Feature Scaling\n",
        "---"
      ]
    },
    {
      "cell_type": "markdown",
      "metadata": {
        "id": "MPEGLW2uZq2F"
      },
      "source": [
        "> Scaling of Features is an essential step while building machine learning models. The data that is usually used for the purpose of modeling is derived through various means which contains features of various dimensions and scales altogether. Different scales of the data features affect the modeling of a dataset adversely which leads to a biased outcome of predictions in terms of misclassification error and accuracy rates. Thus, it is necessary to Scale the data prior to modeling.<br><br>\n",
        "There are two of the most common techniques of feature scaling named **Normalization** & **Standardization**.<br>\n",
        "For our project we will be using **Standardization** which transforms the data to have zero mean and a variance of 1 and make the data unitless.<br>\n",
        "Particularly, we will be using **StandardScaler()** to scale our dataset.<br>\n",
        "\n",
        "Full Reference: [here](https://machinelearningmastery.com/standardscaler-and-minmaxscaler-transforms-in-python/)"
      ]
    },
    {
      "cell_type": "code",
      "metadata": {
        "id": "mWZeMzJVIXuc"
      },
      "source": [
        "from sklearn.preprocessing import StandardScaler\n",
        "sc = StandardScaler()\n",
        "X_train = sc.fit_transform(X_train)\n",
        "X_test = sc.transform(X_test)"
      ],
      "execution_count": null,
      "outputs": []
    },
    {
      "cell_type": "markdown",
      "metadata": {
        "id": "Ga9yAuJEZEtV"
      },
      "source": [
        "> This last step brings us to the end of our **Data Preprocessing** phase. Now, we will move forward and perform **Exploratory Data Analysis** on the entire dataset in order to get some insights from our data with the help of visualizations."
      ]
    },
    {
      "cell_type": "markdown",
      "metadata": {
        "id": "vLOub3lnBLQX"
      },
      "source": [
        "---\n",
        "## **Exploratry Data Analysis**\n",
        "---"
      ]
    },
    {
      "cell_type": "markdown",
      "metadata": {
        "id": "nkUep-YyECf6"
      },
      "source": [
        "---\n",
        "### Target Variable Distribution\n",
        "---"
      ]
    },
    {
      "cell_type": "code",
      "metadata": {
        "id": "DpxoW7HnEGF2",
        "colab": {
          "base_uri": "https://localhost:8080/",
          "height": 296
        },
        "outputId": "2445d918-3ef3-4930-c278-169f472a405e"
      },
      "source": [
        "sns.countplot(x='target',data=dataset)\n",
        "plt.show()\n",
        "cases = dataset.target.value_counts()\n",
        "print(f\"There are {cases[0]} patients without heart disease and {cases[1]} patients with the disease\")"
      ],
      "execution_count": null,
      "outputs": [
        {
          "output_type": "display_data",
          "data": {
            "image/png": "[encoded data removed]",
            "text/plain": [
              "<Figure size 432x288 with 1 Axes>"
            ]
          },
          "metadata": {
            "needs_background": "light"
          }
        },
        {
          "output_type": "stream",
          "name": "stdout",
          "text": [
            "There are 125 patients without heart disease and 158 patients with the disease\n"
          ]
        }
      ]
    },
    {
      "cell_type": "markdown",
      "metadata": {
        "id": "Yn2jnlG_ELis"
      },
      "source": [
        "From the graph shown above it can be observed that there are in total **125 patients without heart disease** and **158 patients with heart disease.** making the entire dataset fairly balanced.\n"
      ]
    },
    {
      "cell_type": "markdown",
      "metadata": {
        "id": "YoFcs4te1MbC"
      },
      "source": [
        "---\n",
        "### Number of people having Heart Disease on the basis of Age\n",
        "---"
      ]
    },
    {
      "cell_type": "code",
      "metadata": {
        "id": "HvrlVkrq1Y-z",
        "colab": {
          "base_uri": "https://localhost:8080/",
          "height": 388
        },
        "outputId": "d3152381-5a01-4e23-fb14-e8decb522560"
      },
      "source": [
        "positive_cases = dataset[dataset['target'] == 1]\n",
        "plt.figure(figsize=(15,6))\n",
        "sns.countplot(x='age',data = positive_cases, hue = 'target', palette='husl')\n",
        "plt.show()"
      ],
      "execution_count": null,
      "outputs": [
        {
          "output_type": "display_data",
          "data": {
            "image/png": "[encoded data removed]",
            "text/plain": [
              "<Figure size 1080x432 with 1 Axes>"
            ]
          },
          "metadata": {
            "needs_background": "light"
          }
        }
      ]
    },
    {
      "cell_type": "markdown",
      "metadata": {
        "id": "M6hCSLlR1h4-"
      },
      "source": [
        "From the graph shown above it can be observed that the people with the highest risk of developing any heart disease are between the ages of **41 and 54.**"
      ]
    },
    {
      "cell_type": "markdown",
      "metadata": {
        "id": "OjdBLkTvrnKO"
      },
      "source": [
        "---\n",
        "### Data Distribution of Continuous Features\n",
        "---"
      ]
    },
    {
      "cell_type": "markdown",
      "metadata": {
        "id": "FN3vQfgur2C8"
      },
      "source": [
        "> Plotting histogram for the entire dataset in order to see the distribution of the data."
      ]
    },
    {
      "cell_type": "code",
      "metadata": {
        "id": "35NYLNhVBzu5",
        "colab": {
          "base_uri": "https://localhost:8080/",
          "height": 661
        },
        "outputId": "59bf7264-e451-41ac-b7ce-abc5c96826b5"
      },
      "source": [
        "#plot histogram to see the distribution of the data\n",
        "fig = plt.figure(figsize=(10,10))\n",
        "ax = fig.gca()\n",
        "dataset[continous_features].hist(ax = ax)\n",
        "plt.show()"
      ],
      "execution_count": null,
      "outputs": [
        {
          "output_type": "stream",
          "name": "stderr",
          "text": [
            "/usr/local/lib/python3.7/dist-packages/ipykernel_launcher.py:4: UserWarning: To output multiple subplots, the figure containing the passed axes is being cleared\n",
            "  after removing the cwd from sys.path.\n"
          ]
        },
        {
          "output_type": "display_data",
          "data": {
            "image/png": "[encoded data removed]",
            "text/plain": [
              "<Figure size 720x720 with 6 Axes>"
            ]
          },
          "metadata": {
            "needs_background": "light"
          }
        }
      ]
    },
    {
      "cell_type": "markdown",
      "metadata": {
        "id": "arzK9esPCabX"
      },
      "source": [
        "> From the plot shown above following observations can be made:\n",
        "* *age, trestbps & chol* are having normal distribution of data\n",
        "* *oldpeak* is left-skewed\n",
        "* *thalach* is right-skewed<br>\n",
        "Lets check the skewness score for **oldpeak** & **thalach** . \n",
        "  + If the skewness is between -0.5 and 0.5, the data are fairly symmetrical. \n",
        "  + If the skewness is between -1 and – 0.5 or between 0.5 and 1, the data are moderately skewed. \n",
        "  + If the skewness is less than -1 or greater than 1, the data are highly skewed.\n"
      ]
    },
    {
      "cell_type": "code",
      "metadata": {
        "colab": {
          "base_uri": "https://localhost:8080/"
        },
        "id": "ZhMcF9EVHFGR",
        "outputId": "26883114-98c1-41a6-a487-a6632ba268cb"
      },
      "source": [
        "dataset['oldpeak'].skew()"
      ],
      "execution_count": null,
      "outputs": [
        {
          "output_type": "execute_result",
          "data": {
            "text/plain": [
              "0.9242722763001783"
            ]
          },
          "metadata": {},
          "execution_count": 35
        }
      ]
    },
    {
      "cell_type": "code",
      "metadata": {
        "colab": {
          "base_uri": "https://localhost:8080/"
        },
        "id": "ZGUcaGsLNapb",
        "outputId": "f392e59f-c4ac-4b9a-95e5-a7ab19244eda"
      },
      "source": [
        "dataset['thalach'].skew()"
      ],
      "execution_count": null,
      "outputs": [
        {
          "output_type": "execute_result",
          "data": {
            "text/plain": [
              "-0.4835092053644669"
            ]
          },
          "metadata": {},
          "execution_count": 36
        }
      ]
    },
    {
      "cell_type": "markdown",
      "metadata": {
        "id": "rnfgAbrvMlri"
      },
      "source": [
        "> The skewness score of both the features show that non of them are highly skewed as **oldpeak** has skewness score of 0.92 which means it is moderately skewed and  **thalach** has a score of -0.48 which lies in the range of fairly symmetrical. Therefore, it is not needed to improve there score.<br>\n",
        "Moving forward to plotting a Correlation Heat Map for all the features."
      ]
    },
    {
      "cell_type": "markdown",
      "metadata": {
        "id": "0UO3E4Jo10MN"
      },
      "source": [
        "---\n",
        "### Correlation Heat Map\n",
        "---"
      ]
    },
    {
      "cell_type": "code",
      "metadata": {
        "colab": {
          "base_uri": "https://localhost:8080/",
          "height": 623
        },
        "id": "DgZ7Z4faR8eM",
        "outputId": "89018609-30cf-4f3c-98d3-cf1355ea2857"
      },
      "source": [
        "sns.set(style=\"white\") \n",
        "plt.rcParams['figure.figsize'] = (15, 10) \n",
        "sns.heatmap(dataset.corr(), annot = True, linewidths=.5, cmap=\"Greens\")\n",
        "plt.title('Corelation Between Variables', fontsize = 30)\n",
        "plt.show()"
      ],
      "execution_count": null,
      "outputs": [
        {
          "output_type": "display_data",
          "data": {
            "image/png": "[encoded data removed]",
            "text/plain": [
              "<Figure size 1080x720 with 2 Axes>"
            ]
          },
          "metadata": {}
        }
      ]
    },
    {
      "cell_type": "markdown",
      "metadata": {
        "id": "R-Mw7WK05TtW"
      },
      "source": [
        "> From the correlation map given above it can be observed that there are no features with more than 0.5 correlation with the target variable. However, there are few features like **restecg, cp, thalach & slope** which show positive correlation with the target variable as compared to others.<br>\n",
        "Also there are not many features which are highly correlated with each other, that is, no set of features have correlation greater than 0.5 with each other."
      ]
    },
    {
      "cell_type": "markdown",
      "metadata": {
        "id": "3p0uXqfCiLis"
      },
      "source": [
        "---\n",
        "## **Model Development**\n",
        "---"
      ]
    },
    {
      "cell_type": "markdown",
      "metadata": {
        "id": "MV-HdU3CUjCI"
      },
      "source": [
        "---\n",
        "### Loading Libraries\n",
        "---"
      ]
    },
    {
      "cell_type": "code",
      "metadata": {
        "colab": {
          "base_uri": "https://localhost:8080/"
        },
        "id": "dbnyjnPoUibC",
        "outputId": "96debd03-55a2-4c44-da99-065e52384963"
      },
      "source": [
        "from collections import Counter\n",
        "from sklearn.model_selection import cross_val_score, GridSearchCV\n",
        "# data modeling\n",
        "from sklearn.metrics import confusion_matrix,accuracy_score,roc_curve,roc_auc_score,classification_report,f1_score\n",
        "from sklearn.linear_model import LogisticRegression\n",
        "from sklearn.naive_bayes import GaussianNB\n",
        "from xgboost import XGBClassifier\n",
        "from sklearn.ensemble import RandomForestClassifier\n",
        "from sklearn.tree import DecisionTreeClassifier\n",
        "from sklearn.neighbors import KNeighborsClassifier\n",
        "from sklearn.svm import SVC\n",
        "#ensembling\n",
        "from mlxtend.classifier import StackingCVClassifier\n",
        "import xgboost as xgb\n",
        "import itertools\n",
        "from sklearn.dummy import DummyClassifier\n",
        "from sklearn import metrics"
      ],
      "execution_count": null,
      "outputs": [
        {
          "output_type": "stream",
          "name": "stderr",
          "text": [
            "/usr/local/lib/python3.7/dist-packages/sklearn/externals/six.py:31: FutureWarning: The module is deprecated in version 0.21 and will be removed in version 0.23 since we've dropped support for Python 2.7. Please rely on the official version of six (https://pypi.org/project/six/).\n",
            "  \"(https://pypi.org/project/six/).\", FutureWarning)\n"
          ]
        }
      ]
    },
    {
      "cell_type": "markdown",
      "metadata": {
        "id": "u15N7JwvYG4R"
      },
      "source": [
        "> Using sklearn’s DummyClassifier to determine our baseline accuracy — which the success rate one should expect to achieve even if simply guessing."
      ]
    },
    {
      "cell_type": "code",
      "metadata": {
        "colab": {
          "base_uri": "https://localhost:8080/"
        },
        "id": "5cIXYMtNX4Jg",
        "outputId": "ebff019b-c5e3-49ef-9dc3-5069c37e2a5f"
      },
      "source": [
        "dummy_clf = DummyClassifier(strategy=\"stratified\", random_state=10)\n",
        "dummy_clf.fit(X_train, y_train)\n",
        "DummyClassifier(strategy='stratified')\n",
        "dummy_clf.predict(X_test)\n",
        "dummy_clf.score(X_test, y_test)"
      ],
      "execution_count": null,
      "outputs": [
        {
          "output_type": "execute_result",
          "data": {
            "text/plain": [
              "0.5263157894736842"
            ]
          },
          "metadata": {},
          "execution_count": 39
        }
      ]
    },
    {
      "cell_type": "markdown",
      "metadata": {
        "id": "n1XqcQ4XYMuv"
      },
      "source": [
        "> This gave us an accuracy of 52.6%, which is useful as a measure of comparison to our model"
      ]
    },
    {
      "cell_type": "markdown",
      "metadata": {
        "id": "dkeAMDiFcwva"
      },
      "source": [
        "> Now, its time to develop our classification models, and print there **accuracy and F1 scores** in order for us to compare the performance of each model and select the one with the best performance."
      ]
    },
    {
      "cell_type": "markdown",
      "metadata": {
        "id": "6e1lAgQjiWXt"
      },
      "source": [
        "---\n",
        "###  Logistic Regression\n",
        "---"
      ]
    },
    {
      "cell_type": "code",
      "metadata": {
        "colab": {
          "base_uri": "https://localhost:8080/"
        },
        "id": "3aoE9LCmYTbJ",
        "outputId": "0fb424a0-a039-4ffd-b6d4-e72bb648aba2"
      },
      "source": [
        "lr = LogisticRegression()\n",
        "# Fit the classifier to the training set\n",
        "lr.fit(X_train, y_train)\n",
        "# make class predictions for the testing set\n",
        "y_pred_lr = lr.predict(X_test)\n",
        "lr_acc_score=metrics.accuracy_score(y_test, y_pred_lr)\n",
        "lr_f1_score=metrics.f1_score(y_test, y_pred_lr)\n",
        "lr_conf_matrix = confusion_matrix(y_test, y_pred_lr)\n",
        "# checking accuracy\n",
        "print('Test Accuracy score: ', lr_acc_score)\n",
        "print('Test F1 score: ', lr_f1_score)\n",
        "print(\"confusion matrix\")\n",
        "print(lr_conf_matrix)\n",
        "print(\"\\n\")\n",
        "print(classification_report(y_test,y_pred_lr))"
      ],
      "execution_count": null,
      "outputs": [
        {
          "output_type": "stream",
          "name": "stdout",
          "text": [
            "Test Accuracy score:  0.8771929824561403\n",
            "Test F1 score:  0.8923076923076922\n",
            "confusion matrix\n",
            "[[21  4]\n",
            " [ 3 29]]\n",
            "\n",
            "\n",
            "              precision    recall  f1-score   support\n",
            "\n",
            "           0       0.88      0.84      0.86        25\n",
            "           1       0.88      0.91      0.89        32\n",
            "\n",
            "    accuracy                           0.88        57\n",
            "   macro avg       0.88      0.87      0.87        57\n",
            "weighted avg       0.88      0.88      0.88        57\n",
            "\n"
          ]
        }
      ]
    },
    {
      "cell_type": "markdown",
      "metadata": {
        "id": "p5Gfbo08lcrg"
      },
      "source": [
        "---\n",
        "### Naive Bayes\n",
        "---"
      ]
    },
    {
      "cell_type": "code",
      "metadata": {
        "id": "87toQB5vboN4",
        "colab": {
          "base_uri": "https://localhost:8080/"
        },
        "outputId": "e621e480-dbb6-4a76-9518-44cb0d79e22f"
      },
      "source": [
        "nb = GaussianNB()\n",
        "# Fit the classifier to the training set\n",
        "nb.fit(X_train,y_train)\n",
        "# make class predictions for the testing set\n",
        "y_pred_nb = nb.predict(X_test)\n",
        "nb_conf_matrix = confusion_matrix(y_test,y_pred_nb)\n",
        "nb_acc_score = metrics.accuracy_score(y_test, y_pred_nb)\n",
        "nb_f1_score=metrics.f1_score(y_test, y_pred_nb)\n",
        "print('Test Accuracy score: ',nb_acc_score)\n",
        "print('Test F1 score: ', nb_f1_score)\n",
        "print(\"confusion matrix\")\n",
        "print(nb_conf_matrix)\n",
        "print(\"\\n\")\n",
        "print(classification_report(y_test,y_pred_nb))"
      ],
      "execution_count": null,
      "outputs": [
        {
          "output_type": "stream",
          "name": "stdout",
          "text": [
            "Test Accuracy score:  0.8771929824561403\n",
            "Test F1 score:  0.8923076923076922\n",
            "confusion matrix\n",
            "[[21  4]\n",
            " [ 3 29]]\n",
            "\n",
            "\n",
            "              precision    recall  f1-score   support\n",
            "\n",
            "           0       0.88      0.84      0.86        25\n",
            "           1       0.88      0.91      0.89        32\n",
            "\n",
            "    accuracy                           0.88        57\n",
            "   macro avg       0.88      0.87      0.87        57\n",
            "weighted avg       0.88      0.88      0.88        57\n",
            "\n"
          ]
        }
      ]
    },
    {
      "cell_type": "markdown",
      "metadata": {
        "id": "zOpGcB5ql375"
      },
      "source": [
        "---\n",
        "### Random Forest\n",
        "---"
      ]
    },
    {
      "cell_type": "code",
      "metadata": {
        "colab": {
          "base_uri": "https://localhost:8080/"
        },
        "id": "r9EywndVZqjT",
        "outputId": "0a9d86ba-8bec-4f5d-97f1-7f12ae60496a"
      },
      "source": [
        "rfc = RandomForestClassifier(n_estimators=40, criterion='entropy', n_jobs=-1, random_state=10)\n",
        "# Fit the classifier to the training set\n",
        "rfc.fit(X_train, y_train)\n",
        "# make class predictions for the testing set\n",
        "y_pred_forest = rfc.predict(X_test)\n",
        "rfc_acc_score=metrics.accuracy_score(y_test, y_pred_forest)\n",
        "rfc_f1_score = metrics.f1_score(y_test, y_pred_forest)\n",
        "rfc_conf_matrix=confusion_matrix(y_test,y_pred_forest)\n",
        "# checking accuracy\n",
        "print('Test Accuracy score: ', rfc_acc_score)\n",
        "print('Test F1 score: ', rfc_f1_score)\n",
        "print(\"confusion matrix\")\n",
        "print(rfc_conf_matrix)\n",
        "print(\"\\n\")\n",
        "print(classification_report(y_test,y_pred_forest))"
      ],
      "execution_count": null,
      "outputs": [
        {
          "output_type": "stream",
          "name": "stdout",
          "text": [
            "Test Accuracy score:  0.8947368421052632\n",
            "Test F1 score:  0.90625\n",
            "confusion matrix\n",
            "[[22  3]\n",
            " [ 3 29]]\n",
            "\n",
            "\n",
            "              precision    recall  f1-score   support\n",
            "\n",
            "           0       0.88      0.88      0.88        25\n",
            "           1       0.91      0.91      0.91        32\n",
            "\n",
            "    accuracy                           0.89        57\n",
            "   macro avg       0.89      0.89      0.89        57\n",
            "weighted avg       0.89      0.89      0.89        57\n",
            "\n"
          ]
        }
      ]
    },
    {
      "cell_type": "markdown",
      "metadata": {
        "id": "sGptIyUlnBm7"
      },
      "source": [
        "---\n",
        "### K-Nearest Neighbor\n",
        "---"
      ]
    },
    {
      "cell_type": "code",
      "metadata": {
        "colab": {
          "base_uri": "https://localhost:8080/"
        },
        "id": "w8Hz1Rm3Z05P",
        "outputId": "b215fc3e-4c1a-451e-e3a8-a245d81b0ae7"
      },
      "source": [
        "knn = KNeighborsClassifier(n_neighbors=15, n_jobs=-1)\n",
        "# Fit the classifier to the training set\n",
        "knn.fit(X_train, y_train)\n",
        "# make class predictions for the testing set\n",
        "y_pred_knn = knn.predict(X_test)\n",
        "knn_acc_score=metrics.accuracy_score(y_test, y_pred_knn)\n",
        "knn_f1_score=metrics.f1_score(y_test, y_pred_knn)\n",
        "knn_conf_matrix = confusion_matrix(y_test, y_pred_knn)\n",
        "# checking accuracy\n",
        "print('Test Accuracy score: ', knn_acc_score)\n",
        "print('Test F1 score: ',knn_f1_score )\n",
        "print(\"confusion matrix\")\n",
        "print(knn_conf_matrix)\n",
        "print(\"\\n\")\n",
        "print(classification_report(y_test,y_pred_knn))"
      ],
      "execution_count": null,
      "outputs": [
        {
          "output_type": "stream",
          "name": "stdout",
          "text": [
            "Test Accuracy score:  0.8947368421052632\n",
            "Test F1 score:  0.9090909090909091\n",
            "confusion matrix\n",
            "[[21  4]\n",
            " [ 2 30]]\n",
            "\n",
            "\n",
            "              precision    recall  f1-score   support\n",
            "\n",
            "           0       0.91      0.84      0.87        25\n",
            "           1       0.88      0.94      0.91        32\n",
            "\n",
            "    accuracy                           0.89        57\n",
            "   macro avg       0.90      0.89      0.89        57\n",
            "weighted avg       0.90      0.89      0.89        57\n",
            "\n"
          ]
        }
      ]
    },
    {
      "cell_type": "markdown",
      "metadata": {
        "id": "Bkxwxe1Hm9OG"
      },
      "source": [
        "---\n",
        "### Support Vector Classifier\n",
        "---"
      ]
    },
    {
      "cell_type": "code",
      "metadata": {
        "colab": {
          "base_uri": "https://localhost:8080/"
        },
        "id": "Sjw4pbK8aR13",
        "outputId": "b6545a4c-f03f-4637-ae60-9b76d552e6a9"
      },
      "source": [
        "svc =  SVC(kernel='rbf', C=2)\n",
        "# Fit the classifier to the training set\n",
        "svc.fit(X_train, y_train)\n",
        "# make class predictions for the testing set\n",
        "y_pred_svc = svc.predict(X_test)\n",
        "svc_conf_matrix = confusion_matrix(y_test, y_pred_svc)\n",
        "svc_acc_score = metrics.accuracy_score(y_test, y_pred_svc)\n",
        "svc_f1_score = metrics.f1_score(y_test, y_pred_svc)\n",
        "# checking accuracy\n",
        "print('Test Accuracy score: ',svc_acc_score)\n",
        "print('Test F1 score: ', svc_f1_score)\n",
        "print(\"confusion matrix\")\n",
        "print(svc_conf_matrix)\n",
        "print(\"\\n\")\n",
        "print(classification_report(y_test,y_pred_svc))"
      ],
      "execution_count": null,
      "outputs": [
        {
          "output_type": "stream",
          "name": "stdout",
          "text": [
            "Test Accuracy score:  0.8771929824561403\n",
            "Test F1 score:  0.8955223880597014\n",
            "confusion matrix\n",
            "[[20  5]\n",
            " [ 2 30]]\n",
            "\n",
            "\n",
            "              precision    recall  f1-score   support\n",
            "\n",
            "           0       0.91      0.80      0.85        25\n",
            "           1       0.86      0.94      0.90        32\n",
            "\n",
            "    accuracy                           0.88        57\n",
            "   macro avg       0.88      0.87      0.87        57\n",
            "weighted avg       0.88      0.88      0.88        57\n",
            "\n"
          ]
        }
      ]
    },
    {
      "cell_type": "markdown",
      "metadata": {
        "id": "aSuiChwJbNse"
      },
      "source": [
        "---\n",
        "### Decision Tree\n",
        "---"
      ]
    },
    {
      "cell_type": "code",
      "metadata": {
        "colab": {
          "base_uri": "https://localhost:8080/"
        },
        "id": "X6ZId78cbQjQ",
        "outputId": "59cf48d9-9cca-4c54-ecfc-8f1c961917b3"
      },
      "source": [
        "tree = DecisionTreeClassifier()\n",
        "# Fit the classifier to the training set\n",
        "tree.fit(X_train, y_train)\n",
        "# make class predictions for the testing set\n",
        "y_pred_tree = tree.predict(X_test)\n",
        "tree_acc_score=metrics.accuracy_score(y_test, y_pred_tree)\n",
        "tree_f1_score=metrics.f1_score(y_test, y_pred_tree)\n",
        "tree_conf_matrix=confusion_matrix(y_test,y_pred_tree)\n",
        "# checking accuracy\n",
        "print('Test Accuracy score: ', tree_acc_score)\n",
        "print('Test F1 score: ', tree_f1_score)\n",
        "print(\"confusion matrix\")\n",
        "print(tree_conf_matrix)\n",
        "print(\"\\n\")\n",
        "print(classification_report(y_test,y_pred_tree))"
      ],
      "execution_count": null,
      "outputs": [
        {
          "output_type": "stream",
          "name": "stdout",
          "text": [
            "Test Accuracy score:  0.7017543859649122\n",
            "Test F1 score:  0.7301587301587302\n",
            "confusion matrix\n",
            "[[17  8]\n",
            " [ 9 23]]\n",
            "\n",
            "\n",
            "              precision    recall  f1-score   support\n",
            "\n",
            "           0       0.65      0.68      0.67        25\n",
            "           1       0.74      0.72      0.73        32\n",
            "\n",
            "    accuracy                           0.70        57\n",
            "   macro avg       0.70      0.70      0.70        57\n",
            "weighted avg       0.70      0.70      0.70        57\n",
            "\n"
          ]
        }
      ]
    },
    {
      "cell_type": "markdown",
      "metadata": {
        "id": "GI4eYsDpm4H6"
      },
      "source": [
        "---\n",
        "### Extreme Gradient Boost\n",
        "---"
      ]
    },
    {
      "cell_type": "code",
      "metadata": {
        "colab": {
          "base_uri": "https://localhost:8080/"
        },
        "id": "GFxPLz66anOc",
        "outputId": "1b0a9ee6-3016-432c-aa24-66fb4b3dc861"
      },
      "source": [
        "xg_cl = xgb.XGBClassifier(learning_rate=0.01, n_estimators=10, seed=25)\n",
        "# Fit the classifier to the training set\n",
        "xg_cl.fit(X_train,y_train)\n",
        "# make class predictions for the testing set\n",
        "y_pred_xgb = xg_cl.predict(X_test)\n",
        "xgb_acc_score=metrics.accuracy_score(y_test, y_pred_xgb)\n",
        "xgb_f1_score = metrics.f1_score(y_test, y_pred_xgb)\n",
        "xgb_conf_matrix=confusion_matrix(y_test,y_pred_xgb)\n",
        "# checking accuracy\n",
        "print('Test Accuracy score: ',xgb_acc_score)\n",
        "print('Test F1 score: ', xgb_f1_score)\n",
        "print(\"confusion matrix\")\n",
        "print(xgb_conf_matrix)\n",
        "print(\"\\n\")\n",
        "print(classification_report(y_test,y_pred_xgb))"
      ],
      "execution_count": null,
      "outputs": [
        {
          "output_type": "stream",
          "name": "stdout",
          "text": [
            "Test Accuracy score:  0.8421052631578947\n",
            "Test F1 score:  0.8656716417910447\n",
            "confusion matrix\n",
            "[[19  6]\n",
            " [ 3 29]]\n",
            "\n",
            "\n",
            "              precision    recall  f1-score   support\n",
            "\n",
            "           0       0.86      0.76      0.81        25\n",
            "           1       0.83      0.91      0.87        32\n",
            "\n",
            "    accuracy                           0.84        57\n",
            "   macro avg       0.85      0.83      0.84        57\n",
            "weighted avg       0.84      0.84      0.84        57\n",
            "\n"
          ]
        }
      ]
    },
    {
      "cell_type": "markdown",
      "metadata": {
        "id": "ZHyrZepgcruL"
      },
      "source": [
        "> In order to select the best performing model, we first need to select the metric which will be the best for the case. For this, I did some research and found this [article](https://https://medium.com/analytics-vidhya/accuracy-vs-f1-score-6258237beca2) where it is mentioned, that, *accuracy* should be chosen as classification metric if the class distribution is almost similar and the *True Positives* and the *True Negatives* are more important.<br>\n",
        "Therefore, since in this case it is more important for us to predict whether a person is having a heart disease or not, therefore, accuracy is used as the classification metric.<br><br>\n",
        "Lets us now create a dataframe consisting of all the models along with there accuracy to get a better picture."
      ]
    },
    {
      "cell_type": "code",
      "metadata": {
        "colab": {
          "base_uri": "https://localhost:8080/",
          "height": 265
        },
        "id": "Pb3fp-i3gcIU",
        "outputId": "261a7e9d-3d4d-43b2-a2fd-dba187399d49"
      },
      "source": [
        "model = pd.DataFrame({'Model': ['Logistic Regression','Naive Bayes', 'Random Forest', 'K-Nearest Neighbour', 'Support Vector Classifier',\n",
        "                                'Decision Tree', 'Extreme Gradient Boost'], \n",
        "                      'Accuracy': [lr_acc_score, nb_acc_score, rfc_acc_score, knn_acc_score, svc_acc_score, tree_acc_score, xgb_acc_score]})\n",
        "model"
      ],
      "execution_count": null,
      "outputs": [
        {
          "output_type": "execute_result",
          "data": {
            "text/html": [
              "<div>\n",
              "<style scoped>\n",
              "    .dataframe tbody tr th:only-of-type {\n",
              "        vertical-align: middle;\n",
              "    }\n",
              "\n",
              "    .dataframe tbody tr th {\n",
              "        vertical-align: top;\n",
              "    }\n",
              "\n",
              "    .dataframe thead th {\n",
              "        text-align: right;\n",
              "    }\n",
              "</style>\n",
              "<table border=\"1\" class=\"dataframe\">\n",
              "  <thead>\n",
              "    <tr style=\"text-align: right;\">\n",
              "      <th></th>\n",
              "      <th>Model</th>\n",
              "      <th>Accuracy</th>\n",
              "    </tr>\n",
              "  </thead>\n",
              "  <tbody>\n",
              "    <tr>\n",
              "      <th>0</th>\n",
              "      <td>Logistic Regression</td>\n",
              "      <td>0.877193</td>\n",
              "    </tr>\n",
              "    <tr>\n",
              "      <th>1</th>\n",
              "      <td>Naive Bayes</td>\n",
              "      <td>0.877193</td>\n",
              "    </tr>\n",
              "    <tr>\n",
              "      <th>2</th>\n",
              "      <td>Random Forest</td>\n",
              "      <td>0.894737</td>\n",
              "    </tr>\n",
              "    <tr>\n",
              "      <th>3</th>\n",
              "      <td>K-Nearest Neighbour</td>\n",
              "      <td>0.894737</td>\n",
              "    </tr>\n",
              "    <tr>\n",
              "      <th>4</th>\n",
              "      <td>Support Vector Classifier</td>\n",
              "      <td>0.877193</td>\n",
              "    </tr>\n",
              "    <tr>\n",
              "      <th>5</th>\n",
              "      <td>Decision Tree</td>\n",
              "      <td>0.701754</td>\n",
              "    </tr>\n",
              "    <tr>\n",
              "      <th>6</th>\n",
              "      <td>Extreme Gradient Boost</td>\n",
              "      <td>0.842105</td>\n",
              "    </tr>\n",
              "  </tbody>\n",
              "</table>\n",
              "</div>"
            ],
            "text/plain": [
              "                       Model  Accuracy\n",
              "0        Logistic Regression  0.877193\n",
              "1                Naive Bayes  0.877193\n",
              "2              Random Forest  0.894737\n",
              "3        K-Nearest Neighbour  0.894737\n",
              "4  Support Vector Classifier  0.877193\n",
              "5              Decision Tree  0.701754\n",
              "6     Extreme Gradient Boost  0.842105"
            ]
          },
          "metadata": {},
          "execution_count": 47
        }
      ]
    },
    {
      "cell_type": "markdown",
      "metadata": {
        "id": "0P67lsG-imNT"
      },
      "source": [
        "> As we can see that the accuracy scores above, range from 60-80's, with only **Decision Tree** being the least accurate amongst all the others.<br>\n",
        "Now the question is whether the accuracy scores can still be improved and brought above 90%. In order to find this, we will be using **Ensemble Learning Method**."
      ]
    },
    {
      "cell_type": "markdown",
      "metadata": {
        "id": "zNtP3cC_jl0C"
      },
      "source": [
        "---\n",
        "## Ensemble Learning Method\n",
        "---"
      ]
    },
    {
      "cell_type": "markdown",
      "metadata": {
        "id": "vdZPkuakjpzr"
      },
      "source": [
        ""
      ]
    },
    {
      "cell_type": "code",
      "metadata": {
        "colab": {
          "base_uri": "https://localhost:8080/"
        },
        "id": "eoA-uJnI0ZL7",
        "outputId": "e23221d7-ed6a-4aa6-c2ed-b96d60ddbd5d"
      },
      "source": [
        "from sklearn.ensemble import StackingClassifier\n",
        "\n",
        "estimator_list = [\n",
        "    ('nb',nb),\n",
        "    ('rfc',rfc),\n",
        "    ('knn',knn)]\n",
        "\n",
        "# Build stack model\n",
        "sc = StackingClassifier(\n",
        "    estimators=estimator_list, final_estimator=RandomForestClassifier(n_estimators=40, criterion='entropy', n_jobs=-1, random_state=42), cv=6\n",
        ")\n",
        "\n",
        "# Train stacked model\n",
        "sc.fit(X_train, y_train)\n",
        "\n",
        "# Make predictions\n",
        "sc_predicted = sc.predict(X_test)\n",
        "sc_conf_matrix = confusion_matrix(y_test, sc_predicted)\n",
        "sc_acc_score = accuracy_score(y_test, sc_predicted)\n",
        "sc_f1_score = f1_score(y_test, sc_predicted)\n",
        "print(\"confusion matrix\")\n",
        "print(sc_conf_matrix)\n",
        "print(\"\\n\")\n",
        "print(\"Accuracy of StackingClassifier:\",sc_acc_score*100,'\\n')\n",
        "print(classification_report(y_test,sc_predicted))"
      ],
      "execution_count": null,
      "outputs": [
        {
          "output_type": "stream",
          "name": "stdout",
          "text": [
            "confusion matrix\n",
            "[[23  2]\n",
            " [ 2 30]]\n",
            "\n",
            "\n",
            "Accuracy of StackingClassifier: 92.98245614035088 \n",
            "\n",
            "              precision    recall  f1-score   support\n",
            "\n",
            "           0       0.92      0.92      0.92        25\n",
            "           1       0.94      0.94      0.94        32\n",
            "\n",
            "    accuracy                           0.93        57\n",
            "   macro avg       0.93      0.93      0.93        57\n",
            "weighted avg       0.93      0.93      0.93        57\n",
            "\n"
          ]
        }
      ]
    },
    {
      "cell_type": "code",
      "metadata": {
        "colab": {
          "base_uri": "https://localhost:8080/",
          "height": 611
        },
        "id": "jNC8xze6h5fJ",
        "outputId": "826f28bf-0bcd-4c3a-fa52-92d400cc8c3c"
      },
      "source": [
        "sns.heatmap(sc_conf_matrix/np.sum(sc_conf_matrix), annot=True, \n",
        "            fmt='.2%', cmap='Greens')"
      ],
      "execution_count": null,
      "outputs": [
        {
          "output_type": "execute_result",
          "data": {
            "text/plain": [
              "<matplotlib.axes._subplots.AxesSubplot at 0x7f1c04d56a50>"
            ]
          },
          "metadata": {},
          "execution_count": 61
        },
        {
          "output_type": "display_data",
          "data": {
            "image/png": "[encoded data removed]",
            "text/plain": [
              "<Figure size 1080x720 with 2 Axes>"
            ]
          },
          "metadata": {}
        }
      ]
    },
    {
      "cell_type": "code",
      "metadata": {
        "colab": {
          "base_uri": "https://localhost:8080/",
          "height": 615
        },
        "id": "YcJ-lcp_iaO1",
        "outputId": "cf2e8c7d-0e27-4013-a2c1-02244261a872"
      },
      "source": [
        "group_names = ['True Neg','False Pos','False Neg','True Pos']\n",
        "group_counts = [\"{0:0.0f}\".format(value) for value in\n",
        "                sc_conf_matrix.flatten()]\n",
        "group_percentages = [\"{0:.2%}\".format(value) for value in\n",
        "                     sc_conf_matrix.flatten()/np.sum(sc_conf_matrix)]\n",
        "labels = [f\"{v1}\\n{v2}\\n{v3}\" for v1, v2, v3 in\n",
        "          zip(group_names,group_counts,group_percentages)]\n",
        "labels = np.asarray(labels).reshape(2,2)\n",
        "sns.heatmap(sc_conf_matrix, annot=labels, fmt='', cmap='Greens')"
      ],
      "execution_count": null,
      "outputs": [
        {
          "output_type": "execute_result",
          "data": {
            "text/plain": [
              "<matplotlib.axes._subplots.AxesSubplot at 0x7f1c0454d350>"
            ]
          },
          "metadata": {},
          "execution_count": 83
        },
        {
          "output_type": "display_data",
          "data": {
            "image/png": "[encoded data removed]",
            "text/plain": [
              "<Figure size 1080x720 with 2 Axes>"
            ]
          },
          "metadata": {}
        }
      ]
    },
    {
      "cell_type": "code",
      "metadata": {
        "id": "52YQ-2RJkQ4N"
      },
      "source": [
        "def make_confusion_matrix(cf,\n",
        "                          group_names=None,\n",
        "                          categories='auto',\n",
        "                          count=True,\n",
        "                          percent=True,\n",
        "                          cbar=True,\n",
        "                          xyticks=True,\n",
        "                          xyplotlabels=True,\n",
        "                          sum_stats=True,\n",
        "                          figsize=None,\n",
        "                          cmap='Blues',\n",
        "                          title=None):\n",
        "  # CODE TO GENERATE TEXT INSIDE EACH SQUARE\n",
        "    blanks = ['' for i in range(cf.size)]\n",
        "\n",
        "    if group_names and len(group_names)==cf.size:\n",
        "        group_labels = [\"{}\\n\".format(value) for value in group_names]\n",
        "    else:\n",
        "        group_labels = blanks\n",
        "\n",
        "    if count:\n",
        "        group_counts = [\"{0:0.0f}\\n\".format(value) for value in cf.flatten()]\n",
        "    else:\n",
        "        group_counts = blanks\n",
        "\n",
        "    if percent:\n",
        "        group_percentages = [\"{0:.2%}\".format(value) for value in cf.flatten()/np.sum(cf)]\n",
        "    else:\n",
        "        group_percentages = blanks\n",
        "\n",
        "    box_labels = [f\"{v1}{v2}{v3}\".strip() for v1, v2, v3 in zip(group_labels,group_counts,group_percentages)]\n",
        "    box_labels = np.asarray(box_labels).reshape(cf.shape[0],cf.shape[1])\n",
        "\n",
        "\n",
        "    # CODE TO GENERATE SUMMARY STATISTICS & TEXT FOR SUMMARY STATS\n",
        "    if sum_stats:\n",
        "        #Accuracy is sum of diagonal divided by total observations\n",
        "        accuracy  = np.trace(cf) / float(np.sum(cf))\n",
        "\n",
        "        #if it is a binary confusion matrix, show some more stats\n",
        "        if len(cf)==2:\n",
        "            #Metrics for Binary Confusion Matrices\n",
        "            precision = cf[1,1] / sum(cf[:,1])\n",
        "            recall    = cf[1,1] / sum(cf[1,:])\n",
        "            f1_score  = 2*precision*recall / (precision + recall)\n",
        "            stats_text = \"\\n\\nAccuracy={:0.3f}\\nPrecision={:0.3f}\\nRecall={:0.3f}\\nF1 Score={:0.3f}\".format(\n",
        "                accuracy,precision,recall,f1_score)\n",
        "        else:\n",
        "            stats_text = \"\\n\\nAccuracy={:0.3f}\".format(accuracy)\n",
        "    else:\n",
        "        stats_text = \"\"\n",
        "\n",
        "\n",
        "    # SET FIGURE PARAMETERS ACCORDING TO OTHER ARGUMENTS\n",
        "    if figsize==None:\n",
        "        #Get default figure size if not set\n",
        "        figsize = plt.rcParams.get('figure.figsize')\n",
        "\n",
        "    if xyticks==False:\n",
        "        #Do not show categories if xyticks is False\n",
        "        categories=False\n",
        "\n",
        "\n",
        "    # MAKE THE HEATMAP VISUALIZATION\n",
        "    plt.figure(figsize=figsize)\n",
        "    sns.heatmap(cf,annot=box_labels,fmt=\"\",cmap=cmap,cbar=cbar,xticklabels=categories,yticklabels=categories)\n",
        "\n",
        "    if xyplotlabels:\n",
        "        plt.ylabel('True label')\n",
        "        plt.xlabel('Predicted label' + stats_text)\n",
        "    else:\n",
        "        plt.xlabel(stats_text)\n",
        "    \n",
        "    if title:\n",
        "        plt.title(title)"
      ],
      "execution_count": null,
      "outputs": []
    },
    {
      "cell_type": "code",
      "metadata": {
        "colab": {
          "base_uri": "https://localhost:8080/",
          "height": 690
        },
        "id": "zC7F15v8lfNl",
        "outputId": "c27d58f1-5870-4cd9-d05a-0d891c2b804d"
      },
      "source": [
        "make_confusion_matrix(sc_conf_matrix)"
      ],
      "execution_count": null,
      "outputs": [
        {
          "output_type": "display_data",
          "data": {
            "image/png": "[encoded data removed]",
            "text/plain": [
              "<Figure size 1080x720 with 2 Axes>"
            ]
          },
          "metadata": {}
        }
      ]
    },
    {
      "cell_type": "code",
      "metadata": {
        "id": "i_0THlMblxAx"
      },
      "source": [
        ""
      ],
      "execution_count": null,
      "outputs": []
    }
  ]
}